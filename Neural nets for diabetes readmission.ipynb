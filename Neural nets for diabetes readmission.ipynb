{
 "cells": [
  {
   "cell_type": "code",
   "execution_count": 57,
   "metadata": {},
   "outputs": [],
   "source": [
    "import numpy as np\n",
    "import pandas as pd\n",
    "import matplotlib.pyplot as plt\n",
    "import seaborn as sns\n",
    "%matplotlib inline\n",
    "\n",
    "from sklearn.model_selection import train_test_split, cross_val_score\n",
    "from sklearn.neural_network import MLPClassifier\n",
    "from sklearn.metrics import recall_score, precision_score"
   ]
  },
  {
   "cell_type": "code",
   "execution_count": 2,
   "metadata": {},
   "outputs": [
    {
     "data": {
      "text/html": [
       "<div>\n",
       "<style scoped>\n",
       "    .dataframe tbody tr th:only-of-type {\n",
       "        vertical-align: middle;\n",
       "    }\n",
       "\n",
       "    .dataframe tbody tr th {\n",
       "        vertical-align: top;\n",
       "    }\n",
       "\n",
       "    .dataframe thead th {\n",
       "        text-align: right;\n",
       "    }\n",
       "</style>\n",
       "<table border=\"1\" class=\"dataframe\">\n",
       "  <thead>\n",
       "    <tr style=\"text-align: right;\">\n",
       "      <th></th>\n",
       "      <th>encounter_id</th>\n",
       "      <th>patient_nbr</th>\n",
       "      <th>race</th>\n",
       "      <th>gender</th>\n",
       "      <th>age</th>\n",
       "      <th>weight</th>\n",
       "      <th>admission_type_id</th>\n",
       "      <th>discharge_disposition_id</th>\n",
       "      <th>admission_source_id</th>\n",
       "      <th>time_in_hospital</th>\n",
       "      <th>...</th>\n",
       "      <th>citoglipton</th>\n",
       "      <th>insulin</th>\n",
       "      <th>glyburide-metformin</th>\n",
       "      <th>glipizide-metformin</th>\n",
       "      <th>glimepiride-pioglitazone</th>\n",
       "      <th>metformin-rosiglitazone</th>\n",
       "      <th>metformin-pioglitazone</th>\n",
       "      <th>change</th>\n",
       "      <th>diabetesMed</th>\n",
       "      <th>readmitted</th>\n",
       "    </tr>\n",
       "  </thead>\n",
       "  <tbody>\n",
       "    <tr>\n",
       "      <th>0</th>\n",
       "      <td>2278392</td>\n",
       "      <td>8222157</td>\n",
       "      <td>Caucasian</td>\n",
       "      <td>Female</td>\n",
       "      <td>[0-10)</td>\n",
       "      <td>?</td>\n",
       "      <td>6</td>\n",
       "      <td>25</td>\n",
       "      <td>1</td>\n",
       "      <td>1</td>\n",
       "      <td>...</td>\n",
       "      <td>No</td>\n",
       "      <td>No</td>\n",
       "      <td>No</td>\n",
       "      <td>No</td>\n",
       "      <td>No</td>\n",
       "      <td>No</td>\n",
       "      <td>No</td>\n",
       "      <td>No</td>\n",
       "      <td>No</td>\n",
       "      <td>NO</td>\n",
       "    </tr>\n",
       "    <tr>\n",
       "      <th>1</th>\n",
       "      <td>149190</td>\n",
       "      <td>55629189</td>\n",
       "      <td>Caucasian</td>\n",
       "      <td>Female</td>\n",
       "      <td>[10-20)</td>\n",
       "      <td>?</td>\n",
       "      <td>1</td>\n",
       "      <td>1</td>\n",
       "      <td>7</td>\n",
       "      <td>3</td>\n",
       "      <td>...</td>\n",
       "      <td>No</td>\n",
       "      <td>Up</td>\n",
       "      <td>No</td>\n",
       "      <td>No</td>\n",
       "      <td>No</td>\n",
       "      <td>No</td>\n",
       "      <td>No</td>\n",
       "      <td>Ch</td>\n",
       "      <td>Yes</td>\n",
       "      <td>&gt;30</td>\n",
       "    </tr>\n",
       "    <tr>\n",
       "      <th>2</th>\n",
       "      <td>64410</td>\n",
       "      <td>86047875</td>\n",
       "      <td>AfricanAmerican</td>\n",
       "      <td>Female</td>\n",
       "      <td>[20-30)</td>\n",
       "      <td>?</td>\n",
       "      <td>1</td>\n",
       "      <td>1</td>\n",
       "      <td>7</td>\n",
       "      <td>2</td>\n",
       "      <td>...</td>\n",
       "      <td>No</td>\n",
       "      <td>No</td>\n",
       "      <td>No</td>\n",
       "      <td>No</td>\n",
       "      <td>No</td>\n",
       "      <td>No</td>\n",
       "      <td>No</td>\n",
       "      <td>No</td>\n",
       "      <td>Yes</td>\n",
       "      <td>NO</td>\n",
       "    </tr>\n",
       "    <tr>\n",
       "      <th>3</th>\n",
       "      <td>500364</td>\n",
       "      <td>82442376</td>\n",
       "      <td>Caucasian</td>\n",
       "      <td>Male</td>\n",
       "      <td>[30-40)</td>\n",
       "      <td>?</td>\n",
       "      <td>1</td>\n",
       "      <td>1</td>\n",
       "      <td>7</td>\n",
       "      <td>2</td>\n",
       "      <td>...</td>\n",
       "      <td>No</td>\n",
       "      <td>Up</td>\n",
       "      <td>No</td>\n",
       "      <td>No</td>\n",
       "      <td>No</td>\n",
       "      <td>No</td>\n",
       "      <td>No</td>\n",
       "      <td>Ch</td>\n",
       "      <td>Yes</td>\n",
       "      <td>NO</td>\n",
       "    </tr>\n",
       "    <tr>\n",
       "      <th>4</th>\n",
       "      <td>16680</td>\n",
       "      <td>42519267</td>\n",
       "      <td>Caucasian</td>\n",
       "      <td>Male</td>\n",
       "      <td>[40-50)</td>\n",
       "      <td>?</td>\n",
       "      <td>1</td>\n",
       "      <td>1</td>\n",
       "      <td>7</td>\n",
       "      <td>1</td>\n",
       "      <td>...</td>\n",
       "      <td>No</td>\n",
       "      <td>Steady</td>\n",
       "      <td>No</td>\n",
       "      <td>No</td>\n",
       "      <td>No</td>\n",
       "      <td>No</td>\n",
       "      <td>No</td>\n",
       "      <td>Ch</td>\n",
       "      <td>Yes</td>\n",
       "      <td>NO</td>\n",
       "    </tr>\n",
       "  </tbody>\n",
       "</table>\n",
       "<p>5 rows × 50 columns</p>\n",
       "</div>"
      ],
      "text/plain": [
       "   encounter_id  patient_nbr             race  gender      age weight  \\\n",
       "0       2278392      8222157        Caucasian  Female   [0-10)      ?   \n",
       "1        149190     55629189        Caucasian  Female  [10-20)      ?   \n",
       "2         64410     86047875  AfricanAmerican  Female  [20-30)      ?   \n",
       "3        500364     82442376        Caucasian    Male  [30-40)      ?   \n",
       "4         16680     42519267        Caucasian    Male  [40-50)      ?   \n",
       "\n",
       "   admission_type_id  discharge_disposition_id  admission_source_id  \\\n",
       "0                  6                        25                    1   \n",
       "1                  1                         1                    7   \n",
       "2                  1                         1                    7   \n",
       "3                  1                         1                    7   \n",
       "4                  1                         1                    7   \n",
       "\n",
       "   time_in_hospital  ... citoglipton insulin  glyburide-metformin  \\\n",
       "0                 1  ...          No      No                   No   \n",
       "1                 3  ...          No      Up                   No   \n",
       "2                 2  ...          No      No                   No   \n",
       "3                 2  ...          No      Up                   No   \n",
       "4                 1  ...          No  Steady                   No   \n",
       "\n",
       "   glipizide-metformin  glimepiride-pioglitazone  metformin-rosiglitazone  \\\n",
       "0                   No                        No                       No   \n",
       "1                   No                        No                       No   \n",
       "2                   No                        No                       No   \n",
       "3                   No                        No                       No   \n",
       "4                   No                        No                       No   \n",
       "\n",
       "   metformin-pioglitazone  change diabetesMed readmitted  \n",
       "0                      No      No          No         NO  \n",
       "1                      No      Ch         Yes        >30  \n",
       "2                      No      No         Yes         NO  \n",
       "3                      No      Ch         Yes         NO  \n",
       "4                      No      Ch         Yes         NO  \n",
       "\n",
       "[5 rows x 50 columns]"
      ]
     },
     "execution_count": 2,
     "metadata": {},
     "output_type": "execute_result"
    }
   ],
   "source": [
    "df = pd.read_csv('Data/diabetic_data.csv')\n",
    "df.head()"
   ]
  },
  {
   "cell_type": "markdown",
   "metadata": {},
   "source": [
    "### Background on the dataset\n",
    "\n",
    "This dataset comes from a study published in BioMed Research International that investigated the effects of HbA1c measurement on hospital readmission rates in the US. Fortunately for me, the dataset has a thorough description of the variable types and % missing. The original study will be included in the GitHub repo for reference."
   ]
  },
  {
   "cell_type": "code",
   "execution_count": 3,
   "metadata": {},
   "outputs": [
    {
     "name": "stdout",
     "output_type": "stream",
     "text": [
      "<class 'pandas.core.frame.DataFrame'>\n",
      "RangeIndex: 101766 entries, 0 to 101765\n",
      "Data columns (total 50 columns):\n",
      "encounter_id                101766 non-null int64\n",
      "patient_nbr                 101766 non-null int64\n",
      "race                        101766 non-null object\n",
      "gender                      101766 non-null object\n",
      "age                         101766 non-null object\n",
      "weight                      101766 non-null object\n",
      "admission_type_id           101766 non-null int64\n",
      "discharge_disposition_id    101766 non-null int64\n",
      "admission_source_id         101766 non-null int64\n",
      "time_in_hospital            101766 non-null int64\n",
      "payer_code                  101766 non-null object\n",
      "medical_specialty           101766 non-null object\n",
      "num_lab_procedures          101766 non-null int64\n",
      "num_procedures              101766 non-null int64\n",
      "num_medications             101766 non-null int64\n",
      "number_outpatient           101766 non-null int64\n",
      "number_emergency            101766 non-null int64\n",
      "number_inpatient            101766 non-null int64\n",
      "diag_1                      101766 non-null object\n",
      "diag_2                      101766 non-null object\n",
      "diag_3                      101766 non-null object\n",
      "number_diagnoses            101766 non-null int64\n",
      "max_glu_serum               101766 non-null object\n",
      "A1Cresult                   101766 non-null object\n",
      "metformin                   101766 non-null object\n",
      "repaglinide                 101766 non-null object\n",
      "nateglinide                 101766 non-null object\n",
      "chlorpropamide              101766 non-null object\n",
      "glimepiride                 101766 non-null object\n",
      "acetohexamide               101766 non-null object\n",
      "glipizide                   101766 non-null object\n",
      "glyburide                   101766 non-null object\n",
      "tolbutamide                 101766 non-null object\n",
      "pioglitazone                101766 non-null object\n",
      "rosiglitazone               101766 non-null object\n",
      "acarbose                    101766 non-null object\n",
      "miglitol                    101766 non-null object\n",
      "troglitazone                101766 non-null object\n",
      "tolazamide                  101766 non-null object\n",
      "examide                     101766 non-null object\n",
      "citoglipton                 101766 non-null object\n",
      "insulin                     101766 non-null object\n",
      "glyburide-metformin         101766 non-null object\n",
      "glipizide-metformin         101766 non-null object\n",
      "glimepiride-pioglitazone    101766 non-null object\n",
      "metformin-rosiglitazone     101766 non-null object\n",
      "metformin-pioglitazone      101766 non-null object\n",
      "change                      101766 non-null object\n",
      "diabetesMed                 101766 non-null object\n",
      "readmitted                  101766 non-null object\n",
      "dtypes: int64(13), object(37)\n",
      "memory usage: 38.8+ MB\n"
     ]
    }
   ],
   "source": [
    "df.info()"
   ]
  },
  {
   "cell_type": "markdown",
   "metadata": {},
   "source": [
    "### Data cleaning\n",
    "\n",
    "None of the data is null, but many values are missing in certain variables according to the description. We will need to handle these features before modelling the data. Additionally, we will engineer some new features."
   ]
  },
  {
   "cell_type": "code",
   "execution_count": 58,
   "metadata": {},
   "outputs": [],
   "source": [
    "# use copy of df to preserve original data, drop values with > 50% missing data\n",
    "\n",
    "df2 = df.copy()\n",
    "\n",
    "df2.drop(['weight', 'payer_code', 'medical_specialty'], axis=1, inplace=True)"
   ]
  },
  {
   "cell_type": "markdown",
   "metadata": {},
   "source": [
    "# Feature engineering"
   ]
  },
  {
   "cell_type": "markdown",
   "metadata": {},
   "source": [
    "### Convert ages from nominal to ordinal values"
   ]
  },
  {
   "cell_type": "code",
   "execution_count": 59,
   "metadata": {},
   "outputs": [],
   "source": [
    "df2.age.replace({'[0-10)':0,\n",
    "              '[10-20)':1,\n",
    "              '[20-30)':2,\n",
    "              '[30-40)':3,\n",
    "              '[40-50)':4,\n",
    "              '[50-60)':5,\n",
    "              '[60-70)':6,\n",
    "              '[70-80)':7,\n",
    "              '[80-90)':8,\n",
    "               '[90-100)':9}, inplace=True)"
   ]
  },
  {
   "cell_type": "markdown",
   "metadata": {},
   "source": [
    "One of the major challenges will be finding ways to reduce the number of groups in the categorical variables. According to the description, some of the coded variables have over 900 distinct nominal values. If we wanted to model these features it would be simply too much data to process. We can aggregate the large varieties of groups into smaller broader categories."
   ]
  },
  {
   "cell_type": "markdown",
   "metadata": {},
   "source": [
    "### Convert diagnosis features to broader categories using ICD-9 codes "
   ]
  },
  {
   "cell_type": "markdown",
   "metadata": {},
   "source": [
    "Some values are coded using alpha chars, these will be difficult to sort through so let's convert everything to a numeric char and then set the dtype to float before converting to broader categories."
   ]
  },
  {
   "cell_type": "code",
   "execution_count": 60,
   "metadata": {},
   "outputs": [],
   "source": [
    "# Change V01-V91 format to 1000-1099 and E000-E999 to 2000-2999, convert dtype to float\n",
    "\n",
    "diagnoses = ['diag_1', 'diag_2', 'diag_3']\n",
    "\n",
    "for var in diagnoses:\n",
    "    \n",
    "    # Convert V01-V91 format to 1000-1099, must convert to str so that the second loop doesnt raise error\n",
    "    for i in list((df2.loc[df2[var].str.contains('V'), var]).index):\n",
    "        df2.loc[i, var] = str(int(df2.loc[i, var][1:]) + 1000)\n",
    "\n",
    "    # Convert  E000-E999 to 2000-2999\n",
    "    for j in list((df2.loc[df2[var].str.contains('E'), var]).index):\n",
    "        df2.loc[j, var] = str(int(df2.loc[j, var][1:]) + 2000)\n"
   ]
  },
  {
   "cell_type": "markdown",
   "metadata": {},
   "source": [
    "There remains a '?' character which represents null values, we will set these values to Nan."
   ]
  },
  {
   "cell_type": "code",
   "execution_count": 61,
   "metadata": {},
   "outputs": [],
   "source": [
    "# Convert dtypes to float, set nan to 0 to avoid errors when categorizing\n",
    "\n",
    "for var in diagnoses:\n",
    "    df2.loc[:, var] = pd.to_numeric(df2.loc[:,var], errors='coerce')\n",
    "    \n",
    "df2.loc[:,diagnoses].fillna(0, inplace=True)"
   ]
  },
  {
   "cell_type": "code",
   "execution_count": 62,
   "metadata": {},
   "outputs": [],
   "source": [
    "replace_list = ['infections, parasites', 'neoplasms', 'endocrine, nutr, metab, immun', 'blood', 'mental', \n",
    "                'nervous', 'circulatory', 'respiratory', 'digestive', 'genitourinary', 'pregnancy/childbirth',\n",
    "               'skin', 'musculoskeletal', 'congenital', 'perinatal', 'ill-defined conditions', 'injury/poisioning',\n",
    "               'supplementary classification of factors influencing health status',\n",
    "               'supplementary classification of causes of injury/poisoning']\n",
    "\n",
    "cutoffs = [1, 140, 240, 280, 290, 320, 390, 460, 520, 580, 630, 680, 710, 740, 760, 780, 800, 1000, 2000, 4000]\n",
    "\n",
    "# Use the replace_list and cutoffs to sort the diagnosis variables into new features\n",
    "\n",
    "for var in diagnoses:\n",
    "    newvar = var + '_sorted'\n",
    "    df2[newvar] = df2[var]\n",
    "    for i in range(len(replace_list)):\n",
    "        df2.loc[(df2[var] >= cutoffs[i]) & (df2[var] < cutoffs[i+1]), newvar] = replace_list[i]"
   ]
  },
  {
   "cell_type": "code",
   "execution_count": 63,
   "metadata": {},
   "outputs": [
    {
     "data": {
      "text/html": [
       "<div>\n",
       "<style scoped>\n",
       "    .dataframe tbody tr th:only-of-type {\n",
       "        vertical-align: middle;\n",
       "    }\n",
       "\n",
       "    .dataframe tbody tr th {\n",
       "        vertical-align: top;\n",
       "    }\n",
       "\n",
       "    .dataframe thead th {\n",
       "        text-align: right;\n",
       "    }\n",
       "</style>\n",
       "<table border=\"1\" class=\"dataframe\">\n",
       "  <thead>\n",
       "    <tr style=\"text-align: right;\">\n",
       "      <th></th>\n",
       "      <th>diag_1_sorted</th>\n",
       "      <th>diag_2_sorted</th>\n",
       "      <th>diag_3_sorted</th>\n",
       "    </tr>\n",
       "  </thead>\n",
       "  <tbody>\n",
       "    <tr>\n",
       "      <th>0</th>\n",
       "      <td>endocrine, nutr, metab, immun</td>\n",
       "      <td>NaN</td>\n",
       "      <td>NaN</td>\n",
       "    </tr>\n",
       "    <tr>\n",
       "      <th>1</th>\n",
       "      <td>endocrine, nutr, metab, immun</td>\n",
       "      <td>endocrine, nutr, metab, immun</td>\n",
       "      <td>endocrine, nutr, metab, immun</td>\n",
       "    </tr>\n",
       "    <tr>\n",
       "      <th>2</th>\n",
       "      <td>pregnancy/childbirth</td>\n",
       "      <td>endocrine, nutr, metab, immun</td>\n",
       "      <td>supplementary classification of factors influe...</td>\n",
       "    </tr>\n",
       "    <tr>\n",
       "      <th>3</th>\n",
       "      <td>infections, parasites</td>\n",
       "      <td>endocrine, nutr, metab, immun</td>\n",
       "      <td>circulatory</td>\n",
       "    </tr>\n",
       "    <tr>\n",
       "      <th>4</th>\n",
       "      <td>neoplasms</td>\n",
       "      <td>neoplasms</td>\n",
       "      <td>endocrine, nutr, metab, immun</td>\n",
       "    </tr>\n",
       "  </tbody>\n",
       "</table>\n",
       "</div>"
      ],
      "text/plain": [
       "                   diag_1_sorted                  diag_2_sorted  \\\n",
       "0  endocrine, nutr, metab, immun                            NaN   \n",
       "1  endocrine, nutr, metab, immun  endocrine, nutr, metab, immun   \n",
       "2           pregnancy/childbirth  endocrine, nutr, metab, immun   \n",
       "3          infections, parasites  endocrine, nutr, metab, immun   \n",
       "4                      neoplasms                      neoplasms   \n",
       "\n",
       "                                       diag_3_sorted  \n",
       "0                                                NaN  \n",
       "1                      endocrine, nutr, metab, immun  \n",
       "2  supplementary classification of factors influe...  \n",
       "3                                        circulatory  \n",
       "4                      endocrine, nutr, metab, immun  "
      ]
     },
     "execution_count": 63,
     "metadata": {},
     "output_type": "execute_result"
    }
   ],
   "source": [
    "df2[['diag_1_sorted','diag_2_sorted','diag_3_sorted']].head()"
   ]
  },
  {
   "cell_type": "markdown",
   "metadata": {},
   "source": [
    "### Create a feature that sums the total number of hospital visits in previous year"
   ]
  },
  {
   "cell_type": "code",
   "execution_count": 64,
   "metadata": {},
   "outputs": [],
   "source": [
    "df2['num_hosp_visits'] = df2['number_outpatient'] + df2['number_inpatient'] + df2['number_emergency']"
   ]
  },
  {
   "cell_type": "markdown",
   "metadata": {},
   "source": [
    "### Create binary feature that categorizes discharge as 'discharged to home' or not"
   ]
  },
  {
   "cell_type": "code",
   "execution_count": 65,
   "metadata": {},
   "outputs": [],
   "source": [
    "df2['discharged_home'] = np.where(df2['discharge_disposition_id'] == 1, 1, 0)"
   ]
  },
  {
   "cell_type": "markdown",
   "metadata": {},
   "source": [
    "### Create binary features that categorizes admission by emergency room, referral, or other"
   ]
  },
  {
   "cell_type": "code",
   "execution_count": 66,
   "metadata": {},
   "outputs": [],
   "source": [
    "df2['emergency_room'] = np.where(df2['admission_source_id'] == 7, 1, 0)\n",
    "df2['referral'] = np.where((df2['admission_source_id'] == 1) | (df2['admission_source_id'] == 2) |\n",
    "                           (df2['admission_source_id'] == 3), 1, 0)"
   ]
  },
  {
   "cell_type": "markdown",
   "metadata": {},
   "source": [
    "### Create two outcome variables, readmittance and readmittance within 30 days"
   ]
  },
  {
   "cell_type": "code",
   "execution_count": 67,
   "metadata": {},
   "outputs": [],
   "source": [
    "df2['binary_readmitted'] = np.where(df2['readmitted'] == 'NO', 0, 1)\n",
    "df2['binary_readmitted30'] = np.where(df2['readmitted'] == '<30', 1, 0)"
   ]
  },
  {
   "cell_type": "markdown",
   "metadata": {},
   "source": [
    "### Drop duplicate patient visits"
   ]
  },
  {
   "cell_type": "code",
   "execution_count": 68,
   "metadata": {},
   "outputs": [],
   "source": [
    "df2.drop_duplicates(subset='patient_nbr', keep='last', inplace=True)"
   ]
  },
  {
   "cell_type": "code",
   "execution_count": 69,
   "metadata": {},
   "outputs": [
    {
     "data": {
      "text/plain": [
       "(71518, 56)"
      ]
     },
     "execution_count": 69,
     "metadata": {},
     "output_type": "execute_result"
    }
   ],
   "source": [
    "df2.shape"
   ]
  },
  {
   "cell_type": "markdown",
   "metadata": {},
   "source": [
    "### Split into train/test sets"
   ]
  },
  {
   "cell_type": "code",
   "execution_count": 70,
   "metadata": {},
   "outputs": [],
   "source": [
    "y = df2['binary_readmitted30']\n",
    "\n",
    "# Add numeric and ordinal features\n",
    "\n",
    "X = df2.loc[:, ('age', 'time_in_hospital', 'num_lab_procedures', 'num_procedures','num_medications',\n",
    "                'number_outpatient', 'number_emergency','number_inpatient', 'number_diagnoses', 'num_hosp_visits',\n",
    "               'discharged_home', 'emergency_room', 'referral')]\n",
    "# Add categorical dummies\n",
    "\n",
    "X = pd.concat([X, pd.get_dummies(df2.loc[:,('race', 'gender', 'max_glu_serum', 'A1Cresult', 'metformin', \n",
    "                                            'insulin','change','diabetesMed','diag_1_sorted')], \n",
    "                                 drop_first=True)], axis=1)\n",
    "\n",
    "\n",
    "X_train, X_test, y_train, y_test = train_test_split(X,y,test_size = 0.1, random_state = 2)"
   ]
  },
  {
   "cell_type": "code",
   "execution_count": 71,
   "metadata": {
    "scrolled": true
   },
   "outputs": [
    {
     "name": "stdout",
     "output_type": "stream",
     "text": [
      "Iteration 1, loss = 0.26574203\n",
      "Iteration 2, loss = 0.18176394\n",
      "Iteration 3, loss = 0.17787353\n",
      "Iteration 4, loss = 0.17689020\n",
      "Iteration 5, loss = 0.17526695\n",
      "Iteration 6, loss = 0.17470273\n",
      "Iteration 7, loss = 0.17408326\n",
      "Iteration 8, loss = 0.17407381\n",
      "Iteration 9, loss = 0.17373284\n",
      "Iteration 10, loss = 0.17359273\n",
      "Iteration 11, loss = 0.17270670\n",
      "Iteration 12, loss = 0.17298002\n",
      "Iteration 13, loss = 0.17272599\n",
      "Iteration 14, loss = 0.17225259\n",
      "Iteration 15, loss = 0.17228425\n",
      "Iteration 16, loss = 0.17142012\n",
      "Iteration 17, loss = 0.17172510\n",
      "Iteration 18, loss = 0.17131600\n",
      "Iteration 19, loss = 0.17143592\n",
      "Iteration 20, loss = 0.17115148\n",
      "Iteration 21, loss = 0.17118773\n",
      "Iteration 22, loss = 0.17126165\n",
      "Iteration 23, loss = 0.17124413\n",
      "Iteration 24, loss = 0.17141976\n",
      "Iteration 25, loss = 0.17028461\n",
      "Iteration 26, loss = 0.17016413\n",
      "Iteration 27, loss = 0.17034021\n",
      "Iteration 28, loss = 0.16994639\n",
      "Iteration 29, loss = 0.16999897\n",
      "Iteration 30, loss = 0.16976203\n",
      "Iteration 31, loss = 0.17053576\n",
      "Iteration 32, loss = 0.16985691\n",
      "Iteration 33, loss = 0.16956878\n",
      "Iteration 34, loss = 0.16952511\n",
      "Iteration 35, loss = 0.16934670\n",
      "Iteration 36, loss = 0.16927607\n",
      "Iteration 37, loss = 0.16927813\n",
      "Iteration 38, loss = 0.16888357\n",
      "Iteration 39, loss = 0.16886674\n",
      "Iteration 40, loss = 0.16882462\n",
      "Iteration 41, loss = 0.16887361\n",
      "Iteration 42, loss = 0.16894675\n",
      "Iteration 43, loss = 0.16837279\n",
      "Iteration 44, loss = 0.16859868\n",
      "Iteration 45, loss = 0.16856201\n",
      "Iteration 46, loss = 0.16849987\n",
      "Iteration 47, loss = 0.16792617\n",
      "Iteration 48, loss = 0.16807183\n",
      "Iteration 49, loss = 0.16778154\n",
      "Iteration 50, loss = 0.16795282\n",
      "Iteration 51, loss = 0.16769591\n",
      "Iteration 52, loss = 0.16787940\n",
      "Iteration 53, loss = 0.16730731\n",
      "Iteration 54, loss = 0.16760312\n",
      "Iteration 55, loss = 0.16745519\n",
      "Iteration 56, loss = 0.16752488\n",
      "Iteration 57, loss = 0.16720466\n",
      "Iteration 58, loss = 0.16734251\n",
      "Iteration 59, loss = 0.16725541\n",
      "Iteration 60, loss = 0.16689489\n",
      "Iteration 61, loss = 0.16737280\n",
      "Iteration 62, loss = 0.16702835\n",
      "Iteration 63, loss = 0.16677411\n",
      "Iteration 64, loss = 0.16647300\n",
      "Iteration 65, loss = 0.16674454\n",
      "Iteration 66, loss = 0.16670204\n",
      "Iteration 67, loss = 0.16663106\n",
      "Iteration 68, loss = 0.16649043\n",
      "Iteration 69, loss = 0.16613371\n",
      "Iteration 70, loss = 0.16611321\n",
      "Iteration 71, loss = 0.16623100\n",
      "Iteration 72, loss = 0.16610900\n",
      "Iteration 73, loss = 0.16621943\n",
      "Iteration 74, loss = 0.16571888\n",
      "Iteration 75, loss = 0.16577411\n",
      "Iteration 76, loss = 0.16597533\n",
      "Iteration 77, loss = 0.16592617\n",
      "Iteration 78, loss = 0.16562612\n",
      "Iteration 79, loss = 0.16564388\n",
      "Iteration 80, loss = 0.16507922\n",
      "Iteration 81, loss = 0.16563317\n",
      "Iteration 82, loss = 0.16547576\n",
      "Iteration 83, loss = 0.16560141\n",
      "Iteration 84, loss = 0.16526093\n",
      "Iteration 85, loss = 0.16480976\n",
      "Iteration 86, loss = 0.16564268\n",
      "Iteration 87, loss = 0.16505085\n",
      "Iteration 88, loss = 0.16527967\n",
      "Iteration 89, loss = 0.16486680\n",
      "Iteration 90, loss = 0.16482368\n",
      "Iteration 91, loss = 0.16503094\n",
      "Iteration 92, loss = 0.16471833\n",
      "Iteration 93, loss = 0.16481474\n",
      "Iteration 94, loss = 0.16453302\n",
      "Iteration 95, loss = 0.16491087\n",
      "Iteration 96, loss = 0.16456664\n",
      "Iteration 97, loss = 0.16482308\n",
      "Iteration 98, loss = 0.16461303\n",
      "Iteration 99, loss = 0.16442578\n",
      "Iteration 100, loss = 0.16437961\n",
      "Iteration 101, loss = 0.16462560\n",
      "Iteration 102, loss = 0.16407168\n",
      "Iteration 103, loss = 0.16428370\n",
      "Iteration 104, loss = 0.16396739\n",
      "Iteration 105, loss = 0.16388240\n",
      "Iteration 106, loss = 0.16437960\n",
      "Iteration 107, loss = 0.16375795\n",
      "Iteration 108, loss = 0.16370715\n",
      "Iteration 109, loss = 0.16382415\n",
      "Iteration 110, loss = 0.16367750\n",
      "Iteration 111, loss = 0.16371305\n",
      "Iteration 112, loss = 0.16381138\n",
      "Iteration 113, loss = 0.16369967\n",
      "Iteration 114, loss = 0.16376631\n",
      "Iteration 115, loss = 0.16356129\n",
      "Iteration 116, loss = 0.16369464\n",
      "Iteration 117, loss = 0.16358015\n",
      "Iteration 118, loss = 0.16380783\n",
      "Iteration 119, loss = 0.16381546\n",
      "Iteration 120, loss = 0.16299842\n",
      "Iteration 121, loss = 0.16338484\n",
      "Iteration 122, loss = 0.16315030\n",
      "Iteration 123, loss = 0.16277899\n",
      "Iteration 124, loss = 0.16283414\n",
      "Iteration 125, loss = 0.16306526\n",
      "Iteration 126, loss = 0.16329480\n",
      "Iteration 127, loss = 0.16314536\n",
      "Iteration 128, loss = 0.16292089\n",
      "Iteration 129, loss = 0.16337477\n",
      "Iteration 130, loss = 0.16293823\n",
      "Iteration 131, loss = 0.16287868\n",
      "Iteration 132, loss = 0.16282972\n",
      "Iteration 133, loss = 0.16270043\n",
      "Iteration 134, loss = 0.16220538\n",
      "Iteration 135, loss = 0.16276023\n",
      "Iteration 136, loss = 0.16269876\n",
      "Iteration 137, loss = 0.16236286\n",
      "Iteration 138, loss = 0.16242860\n",
      "Iteration 139, loss = 0.16213455\n",
      "Iteration 140, loss = 0.16205154\n",
      "Iteration 141, loss = 0.16221073\n",
      "Iteration 142, loss = 0.16252297\n",
      "Iteration 143, loss = 0.16218113\n",
      "Iteration 144, loss = 0.16180615\n",
      "Iteration 145, loss = 0.16196498\n",
      "Iteration 146, loss = 0.16202707\n",
      "Iteration 147, loss = 0.16164305\n",
      "Iteration 148, loss = 0.16178382\n",
      "Iteration 149, loss = 0.16183344\n",
      "Iteration 150, loss = 0.16171127\n",
      "Iteration 151, loss = 0.16183375\n",
      "Iteration 152, loss = 0.16179015\n",
      "Iteration 153, loss = 0.16173426\n",
      "Iteration 154, loss = 0.16167203\n",
      "Iteration 155, loss = 0.16203223\n",
      "Iteration 156, loss = 0.16116253\n",
      "Iteration 157, loss = 0.16126495\n",
      "Iteration 158, loss = 0.16139905\n",
      "Iteration 159, loss = 0.16107050\n",
      "Iteration 160, loss = 0.16135319\n",
      "Iteration 161, loss = 0.16146734\n",
      "Iteration 162, loss = 0.16175272\n",
      "Iteration 163, loss = 0.16107614\n",
      "Iteration 164, loss = 0.16121090\n",
      "Iteration 165, loss = 0.16115519\n",
      "Iteration 166, loss = 0.16123500\n",
      "Iteration 167, loss = 0.16102946\n",
      "Training loss did not improve more than tol=0.000100 for 10 consecutive epochs. Stopping.\n"
     ]
    },
    {
     "data": {
      "text/plain": [
       "MLPClassifier(activation='relu', alpha=0.001, batch_size='auto', beta_1=0.9,\n",
       "              beta_2=0.999, early_stopping=False, epsilon=1e-08,\n",
       "              hidden_layer_sizes=(26, 13), learning_rate='constant',\n",
       "              learning_rate_init=0.001, max_iter=200, momentum=0.9,\n",
       "              n_iter_no_change=10, nesterovs_momentum=True, power_t=0.5,\n",
       "              random_state=2, shuffle=True, solver='adam', tol=0.0001,\n",
       "              validation_fraction=0.1, verbose=True, warm_start=True)"
      ]
     },
     "execution_count": 71,
     "metadata": {},
     "output_type": "execute_result"
    }
   ],
   "source": [
    "mlp = MLPClassifier(hidden_layer_sizes=(26,13), random_state=2, verbose=True, warm_start=True, \n",
    "                    early_stopping=False, alpha=.001)\n",
    "mlp.fit(X_train,y_train)"
   ]
  },
  {
   "cell_type": "code",
   "execution_count": 72,
   "metadata": {},
   "outputs": [
    {
     "data": {
      "text/plain": [
       "0.950503355704698"
      ]
     },
     "execution_count": 72,
     "metadata": {},
     "output_type": "execute_result"
    }
   ],
   "source": [
    "mlp.score(X_test,y_test)"
   ]
  },
  {
   "cell_type": "code",
   "execution_count": 73,
   "metadata": {},
   "outputs": [
    {
     "data": {
      "text/plain": [
       "0.011461318051575931"
      ]
     },
     "execution_count": 73,
     "metadata": {},
     "output_type": "execute_result"
    }
   ],
   "source": [
    "recall_score(y_test, mlp.predict(X_test))"
   ]
  },
  {
   "cell_type": "code",
   "execution_count": 74,
   "metadata": {},
   "outputs": [
    {
     "data": {
      "text/plain": [
       "0.3076923076923077"
      ]
     },
     "execution_count": 74,
     "metadata": {},
     "output_type": "execute_result"
    }
   ],
   "source": [
    "precision_score(y_test, mlp.predict(X_test))"
   ]
  },
  {
   "cell_type": "code",
   "execution_count": 79,
   "metadata": {},
   "outputs": [],
   "source": [
    "X_down = pd.concat([X_train,y_train], axis=1)\n",
    "\n",
    "# Seperate into readmitted/not_readmitted\n",
    "\n",
    "readmitted = X_down[X_down['binary_readmitted30'] == 1]\n",
    "not_readmitted = X_down[X_down['binary_readmitted30'] == 0]\n",
    "\n",
    "# Undersampling the majority class\n",
    "\n",
    "not_readmitted_down = resample(not_readmitted, \n",
    "                              replace=False,\n",
    "                              n_samples=len(readmitted),\n",
    "                              random_state=1)\n",
    "\n",
    "# Combine classes\n",
    "\n",
    "X_down = pd.concat([not_readmitted_down, readmitted])\n",
    "\n",
    "# Check class counts\n",
    "\n",
    "X_down['binary_readmitted30'].value_counts()\n",
    "\n",
    "# Split our upsampled data \n",
    "\n",
    "y_train = X_down['binary_readmitted30']\n",
    "X_train = X_down.drop('binary_readmitted30', axis=1)"
   ]
  },
  {
   "cell_type": "code",
   "execution_count": 88,
   "metadata": {},
   "outputs": [
    {
     "name": "stdout",
     "output_type": "stream",
     "text": [
      "Iteration 1, loss = 0.88321477\n",
      "Iteration 2, loss = 0.69155602\n",
      "Iteration 3, loss = 0.67767354\n",
      "Iteration 4, loss = 0.67512441\n",
      "Iteration 5, loss = 0.67097983\n",
      "Iteration 6, loss = 0.66582739\n",
      "Iteration 7, loss = 0.66581555\n",
      "Iteration 8, loss = 0.65991343\n",
      "Iteration 9, loss = 0.65790510\n",
      "Iteration 10, loss = 0.65404656\n",
      "Iteration 11, loss = 0.65394705\n",
      "Iteration 12, loss = 0.65091622\n",
      "Iteration 13, loss = 0.64652464\n",
      "Iteration 14, loss = 0.64621738\n",
      "Iteration 15, loss = 0.64245320\n",
      "Iteration 16, loss = 0.64310763\n",
      "Iteration 17, loss = 0.64153325\n",
      "Iteration 18, loss = 0.64096727\n",
      "Iteration 19, loss = 0.63885371\n",
      "Iteration 20, loss = 0.63907191\n",
      "Iteration 21, loss = 0.63582129\n",
      "Iteration 22, loss = 0.63536799\n",
      "Iteration 23, loss = 0.63409542\n",
      "Iteration 24, loss = 0.63290544\n",
      "Iteration 25, loss = 0.63227287\n",
      "Iteration 26, loss = 0.63160510\n",
      "Iteration 27, loss = 0.63058330\n",
      "Iteration 28, loss = 0.63073120\n",
      "Iteration 29, loss = 0.62859028\n",
      "Iteration 30, loss = 0.62631874\n",
      "Iteration 31, loss = 0.62546609\n",
      "Iteration 32, loss = 0.62513836\n",
      "Iteration 33, loss = 0.62952847\n",
      "Iteration 34, loss = 0.62495721\n",
      "Iteration 35, loss = 0.62455794\n",
      "Iteration 36, loss = 0.62224878\n",
      "Iteration 37, loss = 0.62097852\n",
      "Iteration 38, loss = 0.62084648\n",
      "Iteration 39, loss = 0.62143042\n",
      "Iteration 40, loss = 0.62378329\n",
      "Iteration 41, loss = 0.61913801\n",
      "Iteration 42, loss = 0.62008489\n",
      "Iteration 43, loss = 0.61796900\n",
      "Iteration 44, loss = 0.61704257\n",
      "Iteration 45, loss = 0.61558112\n",
      "Iteration 46, loss = 0.61549086\n",
      "Iteration 47, loss = 0.61803161\n",
      "Iteration 48, loss = 0.61491836\n",
      "Iteration 49, loss = 0.61306466\n",
      "Iteration 50, loss = 0.61343050\n",
      "Iteration 51, loss = 0.61500573\n",
      "Iteration 52, loss = 0.61590422\n",
      "Iteration 53, loss = 0.61025286\n",
      "Iteration 54, loss = 0.61359614\n",
      "Iteration 55, loss = 0.61313580\n",
      "Iteration 56, loss = 0.60997002\n",
      "Iteration 57, loss = 0.60818304\n",
      "Iteration 58, loss = 0.60914683\n",
      "Iteration 59, loss = 0.60652372\n",
      "Iteration 60, loss = 0.60486929\n",
      "Iteration 61, loss = 0.60615749\n",
      "Iteration 62, loss = 0.60427469\n",
      "Iteration 63, loss = 0.60614574\n",
      "Iteration 64, loss = 0.60686414\n",
      "Iteration 65, loss = 0.60445833\n",
      "Iteration 66, loss = 0.60364149\n",
      "Iteration 67, loss = 0.60214475\n",
      "Iteration 68, loss = 0.60355646\n",
      "Iteration 69, loss = 0.60225926\n",
      "Iteration 70, loss = 0.60094745\n",
      "Iteration 71, loss = 0.60252134\n",
      "Iteration 72, loss = 0.59962315\n",
      "Iteration 73, loss = 0.59915598\n",
      "Iteration 74, loss = 0.60473990\n",
      "Iteration 75, loss = 0.60475088\n",
      "Iteration 76, loss = 0.59981359\n",
      "Iteration 77, loss = 0.59916729\n",
      "Iteration 78, loss = 0.60208362\n",
      "Iteration 79, loss = 0.59685580\n",
      "Iteration 80, loss = 0.59691392\n",
      "Iteration 81, loss = 0.59595734\n",
      "Iteration 82, loss = 0.59738397\n",
      "Iteration 83, loss = 0.59737394\n",
      "Iteration 84, loss = 0.59698425\n",
      "Iteration 85, loss = 0.59660861\n",
      "Iteration 86, loss = 0.59643292\n",
      "Iteration 87, loss = 0.59693556\n",
      "Iteration 88, loss = 0.59677275\n",
      "Iteration 89, loss = 0.59273173\n",
      "Iteration 90, loss = 0.59294116\n",
      "Iteration 91, loss = 0.59247552\n",
      "Iteration 92, loss = 0.59197681\n",
      "Iteration 93, loss = 0.59072278\n",
      "Iteration 94, loss = 0.59079025\n",
      "Iteration 95, loss = 0.59061707\n",
      "Iteration 96, loss = 0.59002026\n",
      "Iteration 97, loss = 0.59268662\n",
      "Iteration 98, loss = 0.58866469\n",
      "Iteration 99, loss = 0.59225398\n",
      "Iteration 100, loss = 0.58951942\n",
      "Iteration 101, loss = 0.59249204\n",
      "Iteration 102, loss = 0.58794616\n",
      "Iteration 103, loss = 0.58865632\n",
      "Iteration 104, loss = 0.58643453\n",
      "Iteration 105, loss = 0.58678593\n",
      "Iteration 106, loss = 0.59131611\n",
      "Iteration 107, loss = 0.58565568\n",
      "Iteration 108, loss = 0.58998663\n",
      "Iteration 109, loss = 0.58844211\n",
      "Iteration 110, loss = 0.58924125\n",
      "Iteration 111, loss = 0.58641361\n",
      "Iteration 112, loss = 0.58774917\n",
      "Iteration 113, loss = 0.58970832\n",
      "Iteration 114, loss = 0.58761015\n",
      "Iteration 115, loss = 0.58429487\n",
      "Iteration 116, loss = 0.58223180\n",
      "Iteration 117, loss = 0.58252756\n",
      "Iteration 118, loss = 0.58423024\n",
      "Iteration 119, loss = 0.58366902\n",
      "Iteration 120, loss = 0.58269739\n",
      "Iteration 121, loss = 0.58310602\n",
      "Iteration 122, loss = 0.58326137\n",
      "Iteration 123, loss = 0.58152684\n",
      "Iteration 124, loss = 0.58486366\n",
      "Iteration 125, loss = 0.58433616\n",
      "Iteration 126, loss = 0.58112246\n",
      "Iteration 127, loss = 0.58132467\n",
      "Iteration 128, loss = 0.57997263\n",
      "Iteration 129, loss = 0.58244616\n",
      "Iteration 130, loss = 0.58108857\n",
      "Iteration 131, loss = 0.58149316\n",
      "Iteration 132, loss = 0.58381203\n",
      "Iteration 133, loss = 0.58380485\n",
      "Iteration 134, loss = 0.57935660\n",
      "Iteration 135, loss = 0.58017550\n",
      "Iteration 136, loss = 0.57900095\n",
      "Iteration 137, loss = 0.57913349\n",
      "Iteration 138, loss = 0.57773085\n",
      "Iteration 139, loss = 0.58192583\n",
      "Iteration 140, loss = 0.57852016\n",
      "Iteration 141, loss = 0.58057654\n",
      "Iteration 142, loss = 0.57709532\n",
      "Iteration 143, loss = 0.57752703\n",
      "Iteration 144, loss = 0.57677125\n",
      "Iteration 145, loss = 0.57991848\n",
      "Iteration 146, loss = 0.57930258\n",
      "Iteration 147, loss = 0.57787261\n",
      "Iteration 148, loss = 0.57587464\n",
      "Iteration 149, loss = 0.57598082\n",
      "Iteration 150, loss = 0.57745483\n",
      "Iteration 151, loss = 0.57788009\n",
      "Iteration 152, loss = 0.57930002\n",
      "Iteration 153, loss = 0.57330982\n",
      "Iteration 154, loss = 0.57997221\n",
      "Iteration 155, loss = 0.57297307\n",
      "Iteration 156, loss = 0.57406081\n",
      "Iteration 157, loss = 0.57282419\n",
      "Iteration 158, loss = 0.57590562\n",
      "Iteration 159, loss = 0.57597440\n",
      "Iteration 160, loss = 0.57366395\n",
      "Iteration 161, loss = 0.57335741\n",
      "Iteration 162, loss = 0.57634745\n",
      "Iteration 163, loss = 0.57391369\n",
      "Iteration 164, loss = 0.57318042\n",
      "Iteration 165, loss = 0.57274968\n",
      "Iteration 166, loss = 0.57530463\n",
      "Iteration 167, loss = 0.57416380\n",
      "Iteration 168, loss = 0.57315318\n",
      "Training loss did not improve more than tol=0.000100 for 10 consecutive epochs. Stopping.\n"
     ]
    },
    {
     "data": {
      "text/plain": [
       "MLPClassifier(activation='relu', alpha=0.001, batch_size='auto', beta_1=0.9,\n",
       "              beta_2=0.999, early_stopping=False, epsilon=1e-08,\n",
       "              hidden_layer_sizes=(26, 13), learning_rate='constant',\n",
       "              learning_rate_init=0.001, max_iter=200, momentum=0.9,\n",
       "              n_iter_no_change=10, nesterovs_momentum=True, power_t=0.5,\n",
       "              random_state=2, shuffle=True, solver='adam', tol=0.0001,\n",
       "              validation_fraction=0.1, verbose=True, warm_start=True)"
      ]
     },
     "execution_count": 88,
     "metadata": {},
     "output_type": "execute_result"
    }
   ],
   "source": [
    "mlp = MLPClassifier(hidden_layer_sizes=(26,13), random_state=2, verbose=True, warm_start=True, \n",
    "                    early_stopping=False, alpha=.001)\n",
    "mlp.fit(X_train,y_train)"
   ]
  },
  {
   "cell_type": "code",
   "execution_count": 89,
   "metadata": {},
   "outputs": [
    {
     "data": {
      "text/plain": [
       "0.6988255033557047"
      ]
     },
     "execution_count": 89,
     "metadata": {},
     "output_type": "execute_result"
    }
   ],
   "source": [
    "mlp.score(X_test,y_test)"
   ]
  },
  {
   "cell_type": "code",
   "execution_count": 90,
   "metadata": {},
   "outputs": [
    {
     "data": {
      "text/plain": [
       "0.504297994269341"
      ]
     },
     "execution_count": 90,
     "metadata": {},
     "output_type": "execute_result"
    }
   ],
   "source": [
    "recall_score(y_test, mlp.predict(X_test))"
   ]
  },
  {
   "cell_type": "code",
   "execution_count": 91,
   "metadata": {},
   "outputs": [
    {
     "data": {
      "text/plain": [
       "0.08159480760315253"
      ]
     },
     "execution_count": 91,
     "metadata": {},
     "output_type": "execute_result"
    }
   ],
   "source": [
    "precision_score(y_test, mlp.predict(X_test))"
   ]
  },
  {
   "cell_type": "markdown",
   "metadata": {},
   "source": [
    "# Summary"
   ]
  },
  {
   "cell_type": "markdown",
   "metadata": {},
   "source": [
    "The model is not performing any better than a Random Forest Classifier I created in another project. While accuracy was high, sensitivity and precision are low. Even with attempts at resampling the data the model was unable to significantly improve its performance on this problem."
   ]
  }
 ],
 "metadata": {
  "kernelspec": {
   "display_name": "Python 3",
   "language": "python",
   "name": "python3"
  },
  "language_info": {
   "codemirror_mode": {
    "name": "ipython",
    "version": 3
   },
   "file_extension": ".py",
   "mimetype": "text/x-python",
   "name": "python",
   "nbconvert_exporter": "python",
   "pygments_lexer": "ipython3",
   "version": "3.6.8"
  }
 },
 "nbformat": 4,
 "nbformat_minor": 2
}
