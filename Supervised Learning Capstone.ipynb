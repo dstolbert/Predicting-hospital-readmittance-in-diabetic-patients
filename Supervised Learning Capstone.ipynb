{
 "cells": [
  {
   "cell_type": "code",
   "execution_count": 3,
   "metadata": {},
   "outputs": [],
   "source": [
    "import numpy as np\n",
    "import pandas as pd\n",
    "import matplotlib.pyplot as plt\n",
    "import seaborn as sns\n",
    "%matplotlib inline\n",
    "\n",
    "from sklearn.model_selection import train_test_split\n",
    "from sklearn import ensemble"
   ]
  },
  {
   "cell_type": "code",
   "execution_count": 4,
   "metadata": {},
   "outputs": [
    {
     "data": {
      "text/html": [
       "<div>\n",
       "<style scoped>\n",
       "    .dataframe tbody tr th:only-of-type {\n",
       "        vertical-align: middle;\n",
       "    }\n",
       "\n",
       "    .dataframe tbody tr th {\n",
       "        vertical-align: top;\n",
       "    }\n",
       "\n",
       "    .dataframe thead th {\n",
       "        text-align: right;\n",
       "    }\n",
       "</style>\n",
       "<table border=\"1\" class=\"dataframe\">\n",
       "  <thead>\n",
       "    <tr style=\"text-align: right;\">\n",
       "      <th></th>\n",
       "      <th>encounter_id</th>\n",
       "      <th>patient_nbr</th>\n",
       "      <th>race</th>\n",
       "      <th>gender</th>\n",
       "      <th>age</th>\n",
       "      <th>weight</th>\n",
       "      <th>admission_type_id</th>\n",
       "      <th>discharge_disposition_id</th>\n",
       "      <th>admission_source_id</th>\n",
       "      <th>time_in_hospital</th>\n",
       "      <th>...</th>\n",
       "      <th>citoglipton</th>\n",
       "      <th>insulin</th>\n",
       "      <th>glyburide-metformin</th>\n",
       "      <th>glipizide-metformin</th>\n",
       "      <th>glimepiride-pioglitazone</th>\n",
       "      <th>metformin-rosiglitazone</th>\n",
       "      <th>metformin-pioglitazone</th>\n",
       "      <th>change</th>\n",
       "      <th>diabetesMed</th>\n",
       "      <th>readmitted</th>\n",
       "    </tr>\n",
       "  </thead>\n",
       "  <tbody>\n",
       "    <tr>\n",
       "      <th>0</th>\n",
       "      <td>2278392</td>\n",
       "      <td>8222157</td>\n",
       "      <td>Caucasian</td>\n",
       "      <td>Female</td>\n",
       "      <td>[0-10)</td>\n",
       "      <td>?</td>\n",
       "      <td>6</td>\n",
       "      <td>25</td>\n",
       "      <td>1</td>\n",
       "      <td>1</td>\n",
       "      <td>...</td>\n",
       "      <td>No</td>\n",
       "      <td>No</td>\n",
       "      <td>No</td>\n",
       "      <td>No</td>\n",
       "      <td>No</td>\n",
       "      <td>No</td>\n",
       "      <td>No</td>\n",
       "      <td>No</td>\n",
       "      <td>No</td>\n",
       "      <td>NO</td>\n",
       "    </tr>\n",
       "    <tr>\n",
       "      <th>1</th>\n",
       "      <td>149190</td>\n",
       "      <td>55629189</td>\n",
       "      <td>Caucasian</td>\n",
       "      <td>Female</td>\n",
       "      <td>[10-20)</td>\n",
       "      <td>?</td>\n",
       "      <td>1</td>\n",
       "      <td>1</td>\n",
       "      <td>7</td>\n",
       "      <td>3</td>\n",
       "      <td>...</td>\n",
       "      <td>No</td>\n",
       "      <td>Up</td>\n",
       "      <td>No</td>\n",
       "      <td>No</td>\n",
       "      <td>No</td>\n",
       "      <td>No</td>\n",
       "      <td>No</td>\n",
       "      <td>Ch</td>\n",
       "      <td>Yes</td>\n",
       "      <td>&gt;30</td>\n",
       "    </tr>\n",
       "    <tr>\n",
       "      <th>2</th>\n",
       "      <td>64410</td>\n",
       "      <td>86047875</td>\n",
       "      <td>AfricanAmerican</td>\n",
       "      <td>Female</td>\n",
       "      <td>[20-30)</td>\n",
       "      <td>?</td>\n",
       "      <td>1</td>\n",
       "      <td>1</td>\n",
       "      <td>7</td>\n",
       "      <td>2</td>\n",
       "      <td>...</td>\n",
       "      <td>No</td>\n",
       "      <td>No</td>\n",
       "      <td>No</td>\n",
       "      <td>No</td>\n",
       "      <td>No</td>\n",
       "      <td>No</td>\n",
       "      <td>No</td>\n",
       "      <td>No</td>\n",
       "      <td>Yes</td>\n",
       "      <td>NO</td>\n",
       "    </tr>\n",
       "    <tr>\n",
       "      <th>3</th>\n",
       "      <td>500364</td>\n",
       "      <td>82442376</td>\n",
       "      <td>Caucasian</td>\n",
       "      <td>Male</td>\n",
       "      <td>[30-40)</td>\n",
       "      <td>?</td>\n",
       "      <td>1</td>\n",
       "      <td>1</td>\n",
       "      <td>7</td>\n",
       "      <td>2</td>\n",
       "      <td>...</td>\n",
       "      <td>No</td>\n",
       "      <td>Up</td>\n",
       "      <td>No</td>\n",
       "      <td>No</td>\n",
       "      <td>No</td>\n",
       "      <td>No</td>\n",
       "      <td>No</td>\n",
       "      <td>Ch</td>\n",
       "      <td>Yes</td>\n",
       "      <td>NO</td>\n",
       "    </tr>\n",
       "    <tr>\n",
       "      <th>4</th>\n",
       "      <td>16680</td>\n",
       "      <td>42519267</td>\n",
       "      <td>Caucasian</td>\n",
       "      <td>Male</td>\n",
       "      <td>[40-50)</td>\n",
       "      <td>?</td>\n",
       "      <td>1</td>\n",
       "      <td>1</td>\n",
       "      <td>7</td>\n",
       "      <td>1</td>\n",
       "      <td>...</td>\n",
       "      <td>No</td>\n",
       "      <td>Steady</td>\n",
       "      <td>No</td>\n",
       "      <td>No</td>\n",
       "      <td>No</td>\n",
       "      <td>No</td>\n",
       "      <td>No</td>\n",
       "      <td>Ch</td>\n",
       "      <td>Yes</td>\n",
       "      <td>NO</td>\n",
       "    </tr>\n",
       "  </tbody>\n",
       "</table>\n",
       "<p>5 rows × 50 columns</p>\n",
       "</div>"
      ],
      "text/plain": [
       "   encounter_id  patient_nbr             race  gender      age weight  \\\n",
       "0       2278392      8222157        Caucasian  Female   [0-10)      ?   \n",
       "1        149190     55629189        Caucasian  Female  [10-20)      ?   \n",
       "2         64410     86047875  AfricanAmerican  Female  [20-30)      ?   \n",
       "3        500364     82442376        Caucasian    Male  [30-40)      ?   \n",
       "4         16680     42519267        Caucasian    Male  [40-50)      ?   \n",
       "\n",
       "   admission_type_id  discharge_disposition_id  admission_source_id  \\\n",
       "0                  6                        25                    1   \n",
       "1                  1                         1                    7   \n",
       "2                  1                         1                    7   \n",
       "3                  1                         1                    7   \n",
       "4                  1                         1                    7   \n",
       "\n",
       "   time_in_hospital  ... citoglipton insulin  glyburide-metformin  \\\n",
       "0                 1  ...          No      No                   No   \n",
       "1                 3  ...          No      Up                   No   \n",
       "2                 2  ...          No      No                   No   \n",
       "3                 2  ...          No      Up                   No   \n",
       "4                 1  ...          No  Steady                   No   \n",
       "\n",
       "   glipizide-metformin  glimepiride-pioglitazone  metformin-rosiglitazone  \\\n",
       "0                   No                        No                       No   \n",
       "1                   No                        No                       No   \n",
       "2                   No                        No                       No   \n",
       "3                   No                        No                       No   \n",
       "4                   No                        No                       No   \n",
       "\n",
       "   metformin-pioglitazone  change diabetesMed readmitted  \n",
       "0                      No      No          No         NO  \n",
       "1                      No      Ch         Yes        >30  \n",
       "2                      No      No         Yes         NO  \n",
       "3                      No      Ch         Yes         NO  \n",
       "4                      No      Ch         Yes         NO  \n",
       "\n",
       "[5 rows x 50 columns]"
      ]
     },
     "execution_count": 4,
     "metadata": {},
     "output_type": "execute_result"
    }
   ],
   "source": [
    "df = pd.read_csv('Data/diabetic_data.csv')\n",
    "df.head()"
   ]
  },
  {
   "cell_type": "markdown",
   "metadata": {},
   "source": [
    "### Background on the dataset\n",
    "\n",
    "This dataset comes from a study published in BioMed Research International that investigated the effects of HbA1c measurement on hospital readmission rates in the US. Fortunately for me, the dataset has a thorough description of the variable types and % missing. The original study will be included in the GitHub repo for reference."
   ]
  },
  {
   "cell_type": "code",
   "execution_count": 5,
   "metadata": {},
   "outputs": [
    {
     "name": "stdout",
     "output_type": "stream",
     "text": [
      "<class 'pandas.core.frame.DataFrame'>\n",
      "RangeIndex: 101766 entries, 0 to 101765\n",
      "Data columns (total 50 columns):\n",
      "encounter_id                101766 non-null int64\n",
      "patient_nbr                 101766 non-null int64\n",
      "race                        101766 non-null object\n",
      "gender                      101766 non-null object\n",
      "age                         101766 non-null object\n",
      "weight                      101766 non-null object\n",
      "admission_type_id           101766 non-null int64\n",
      "discharge_disposition_id    101766 non-null int64\n",
      "admission_source_id         101766 non-null int64\n",
      "time_in_hospital            101766 non-null int64\n",
      "payer_code                  101766 non-null object\n",
      "medical_specialty           101766 non-null object\n",
      "num_lab_procedures          101766 non-null int64\n",
      "num_procedures              101766 non-null int64\n",
      "num_medications             101766 non-null int64\n",
      "number_outpatient           101766 non-null int64\n",
      "number_emergency            101766 non-null int64\n",
      "number_inpatient            101766 non-null int64\n",
      "diag_1                      101766 non-null object\n",
      "diag_2                      101766 non-null object\n",
      "diag_3                      101766 non-null object\n",
      "number_diagnoses            101766 non-null int64\n",
      "max_glu_serum               101766 non-null object\n",
      "A1Cresult                   101766 non-null object\n",
      "metformin                   101766 non-null object\n",
      "repaglinide                 101766 non-null object\n",
      "nateglinide                 101766 non-null object\n",
      "chlorpropamide              101766 non-null object\n",
      "glimepiride                 101766 non-null object\n",
      "acetohexamide               101766 non-null object\n",
      "glipizide                   101766 non-null object\n",
      "glyburide                   101766 non-null object\n",
      "tolbutamide                 101766 non-null object\n",
      "pioglitazone                101766 non-null object\n",
      "rosiglitazone               101766 non-null object\n",
      "acarbose                    101766 non-null object\n",
      "miglitol                    101766 non-null object\n",
      "troglitazone                101766 non-null object\n",
      "tolazamide                  101766 non-null object\n",
      "examide                     101766 non-null object\n",
      "citoglipton                 101766 non-null object\n",
      "insulin                     101766 non-null object\n",
      "glyburide-metformin         101766 non-null object\n",
      "glipizide-metformin         101766 non-null object\n",
      "glimepiride-pioglitazone    101766 non-null object\n",
      "metformin-rosiglitazone     101766 non-null object\n",
      "metformin-pioglitazone      101766 non-null object\n",
      "change                      101766 non-null object\n",
      "diabetesMed                 101766 non-null object\n",
      "readmitted                  101766 non-null object\n",
      "dtypes: int64(13), object(37)\n",
      "memory usage: 38.8+ MB\n"
     ]
    }
   ],
   "source": [
    "df.info()"
   ]
  },
  {
   "cell_type": "markdown",
   "metadata": {},
   "source": [
    "### Data cleaning\n",
    "\n",
    "None of the data is null, but many values are missing in certain variables according to the description. We will need to handle these features before modelling the data. Additionally, we will engineer some new features."
   ]
  },
  {
   "cell_type": "code",
   "execution_count": 6,
   "metadata": {},
   "outputs": [],
   "source": [
    "# use copy of df to preserve original data, drop values with > 50% missing data\n",
    "\n",
    "df2 = df.copy()\n",
    "\n",
    "df2.drop(['weight', 'payer_code', 'medical_specialty'], axis=1, inplace=True)"
   ]
  },
  {
   "cell_type": "markdown",
   "metadata": {},
   "source": [
    "# Feature engineering"
   ]
  },
  {
   "cell_type": "markdown",
   "metadata": {},
   "source": [
    "### Convert ages from nominal to ordinal values"
   ]
  },
  {
   "cell_type": "code",
   "execution_count": 7,
   "metadata": {},
   "outputs": [],
   "source": [
    "df2.age.replace({'[0-10)':0,\n",
    "              '[10-20)':1,\n",
    "              '[20-30)':2,\n",
    "              '[30-40)':3,\n",
    "              '[40-50)':4,\n",
    "              '[50-60)':5,\n",
    "              '[60-70)':6,\n",
    "              '[70-80)':7,\n",
    "              '[80-90)':8,\n",
    "               '[90-100)':9}, inplace=True)"
   ]
  },
  {
   "cell_type": "markdown",
   "metadata": {},
   "source": [
    "One of the major challenges will be finding ways to reduce the number of groups in the categorical variables. According to the description, some of the coded variables have over 900 distinct nominal values. If we wanted to model these features it would be simply too much data to process. We can aggregate the large varieties of groups into smaller broader categories."
   ]
  },
  {
   "cell_type": "markdown",
   "metadata": {},
   "source": [
    "### Convert diagnosis features to broader categories using ICD-9 codes "
   ]
  },
  {
   "cell_type": "markdown",
   "metadata": {},
   "source": [
    "Some values are coded using alpha chars, these will be difficult to sort through so let's convert everything to a numeric char and then set the dtype to float before converting to broader categories."
   ]
  },
  {
   "cell_type": "code",
   "execution_count": 8,
   "metadata": {},
   "outputs": [],
   "source": [
    "# Change V01-V91 format to 1000-1099 and E000-E999 to 2000-2999, convert dtype to float\n",
    "\n",
    "diagnoses = ['diag_1', 'diag_2', 'diag_3']\n",
    "\n",
    "for var in diagnoses:\n",
    "    \n",
    "    # Convert V01-V91 format to 1000-1099, must convert to str so that the second loop doesnt raise error\n",
    "    for i in list((df2.loc[df2[var].str.contains('V'), var]).index):\n",
    "        df2.loc[i, var] = str(int(df2.loc[i, var][1:]) + 1000)\n",
    "\n",
    "    # Convert  E000-E999 to 2000-2999\n",
    "    for j in list((df2.loc[df2[var].str.contains('E'), var]).index):\n",
    "        df2.loc[j, var] = str(int(df2.loc[j, var][1:]) + 2000)\n"
   ]
  },
  {
   "cell_type": "markdown",
   "metadata": {},
   "source": [
    "There remains a '?' character which represents null values, we will set these values to Nan."
   ]
  },
  {
   "cell_type": "code",
   "execution_count": 9,
   "metadata": {},
   "outputs": [],
   "source": [
    "# Convert dtypes to float, set nan to 0 to avoid errors when categorizing\n",
    "\n",
    "for var in diagnoses:\n",
    "    df2.loc[:, var] = pd.to_numeric(df2.loc[:,var], errors='coerce')\n",
    "    \n",
    "df2.loc[:,diagnoses].fillna(0, inplace=True)"
   ]
  },
  {
   "cell_type": "code",
   "execution_count": 10,
   "metadata": {},
   "outputs": [],
   "source": [
    "replace_list = ['infections, parasites', 'neoplasms', 'endocrine, nutr, metab, immun', 'blood', 'mental', \n",
    "                'nervous', 'circulatory', 'respiratory', 'digestive', 'genitourinary', 'pregnancy/childbirth',\n",
    "               'skin', 'musculoskeletal', 'congenital', 'perinatal', 'ill-defined conditions', 'injury/poisioning',\n",
    "               'supplementary classification of factors influencing health status',\n",
    "               'supplementary classification of causes of injury/poisoning']\n",
    "\n",
    "cutoffs = [1, 140, 240, 280, 290, 320, 390, 460, 520, 580, 630, 680, 710, 740, 760, 780, 800, 1000, 2000, 4000]\n",
    "\n",
    "# Use the replace_list and cutoffs to sort the diagnosis variables into new features\n",
    "\n",
    "for var in diagnoses:\n",
    "    newvar = var + '_sorted'\n",
    "    df2[newvar] = df2[var]\n",
    "    for i in range(len(replace_list)):\n",
    "        df2.loc[(df2[var] >= cutoffs[i]) & (df2[var] < cutoffs[i+1]), newvar] = replace_list[i]"
   ]
  },
  {
   "cell_type": "code",
   "execution_count": 11,
   "metadata": {},
   "outputs": [
    {
     "data": {
      "text/html": [
       "<div>\n",
       "<style scoped>\n",
       "    .dataframe tbody tr th:only-of-type {\n",
       "        vertical-align: middle;\n",
       "    }\n",
       "\n",
       "    .dataframe tbody tr th {\n",
       "        vertical-align: top;\n",
       "    }\n",
       "\n",
       "    .dataframe thead th {\n",
       "        text-align: right;\n",
       "    }\n",
       "</style>\n",
       "<table border=\"1\" class=\"dataframe\">\n",
       "  <thead>\n",
       "    <tr style=\"text-align: right;\">\n",
       "      <th></th>\n",
       "      <th>diag_1_sorted</th>\n",
       "      <th>diag_2_sorted</th>\n",
       "      <th>diag_3_sorted</th>\n",
       "    </tr>\n",
       "  </thead>\n",
       "  <tbody>\n",
       "    <tr>\n",
       "      <th>0</th>\n",
       "      <td>endocrine, nutr, metab, immun</td>\n",
       "      <td>NaN</td>\n",
       "      <td>NaN</td>\n",
       "    </tr>\n",
       "    <tr>\n",
       "      <th>1</th>\n",
       "      <td>endocrine, nutr, metab, immun</td>\n",
       "      <td>endocrine, nutr, metab, immun</td>\n",
       "      <td>endocrine, nutr, metab, immun</td>\n",
       "    </tr>\n",
       "    <tr>\n",
       "      <th>2</th>\n",
       "      <td>pregnancy/childbirth</td>\n",
       "      <td>endocrine, nutr, metab, immun</td>\n",
       "      <td>supplementary classification of factors influe...</td>\n",
       "    </tr>\n",
       "    <tr>\n",
       "      <th>3</th>\n",
       "      <td>infections, parasites</td>\n",
       "      <td>endocrine, nutr, metab, immun</td>\n",
       "      <td>circulatory</td>\n",
       "    </tr>\n",
       "    <tr>\n",
       "      <th>4</th>\n",
       "      <td>neoplasms</td>\n",
       "      <td>neoplasms</td>\n",
       "      <td>endocrine, nutr, metab, immun</td>\n",
       "    </tr>\n",
       "  </tbody>\n",
       "</table>\n",
       "</div>"
      ],
      "text/plain": [
       "                   diag_1_sorted                  diag_2_sorted  \\\n",
       "0  endocrine, nutr, metab, immun                            NaN   \n",
       "1  endocrine, nutr, metab, immun  endocrine, nutr, metab, immun   \n",
       "2           pregnancy/childbirth  endocrine, nutr, metab, immun   \n",
       "3          infections, parasites  endocrine, nutr, metab, immun   \n",
       "4                      neoplasms                      neoplasms   \n",
       "\n",
       "                                       diag_3_sorted  \n",
       "0                                                NaN  \n",
       "1                      endocrine, nutr, metab, immun  \n",
       "2  supplementary classification of factors influe...  \n",
       "3                                        circulatory  \n",
       "4                      endocrine, nutr, metab, immun  "
      ]
     },
     "execution_count": 11,
     "metadata": {},
     "output_type": "execute_result"
    }
   ],
   "source": [
    "df2[['diag_1_sorted','diag_2_sorted','diag_3_sorted']].head()"
   ]
  },
  {
   "cell_type": "markdown",
   "metadata": {},
   "source": [
    "### Create a feature that sums the total number of hospital visits in previous year"
   ]
  },
  {
   "cell_type": "code",
   "execution_count": 12,
   "metadata": {},
   "outputs": [],
   "source": [
    "df2['num_hosp_visits'] = df2['number_outpatient'] + df2['number_inpatient'] + df2['number_emergency']"
   ]
  },
  {
   "cell_type": "markdown",
   "metadata": {},
   "source": [
    "### Create binary feature that categorizes discharge as 'discharged to home' or not"
   ]
  },
  {
   "cell_type": "code",
   "execution_count": 13,
   "metadata": {},
   "outputs": [],
   "source": [
    "df2['discharged_home'] = np.where(df2['discharge_disposition_id'] == 1, 1, 0)"
   ]
  },
  {
   "cell_type": "markdown",
   "metadata": {},
   "source": [
    "### Create binary features that categorizes admission by emergency room, referral, or other"
   ]
  },
  {
   "cell_type": "code",
   "execution_count": 14,
   "metadata": {},
   "outputs": [],
   "source": [
    "df2['emergency_room'] = np.where(df2['admission_source_id'] == 7, 1, 0)\n",
    "df2['referral'] = np.where((df2['admission_source_id'] == 1) | (df2['admission_source_id'] == 2) |\n",
    "                           (df2['admission_source_id'] == 3), 1, 0)"
   ]
  },
  {
   "cell_type": "markdown",
   "metadata": {},
   "source": [
    "### Create two outcome variables, readmittance and readmittance within 30 days"
   ]
  },
  {
   "cell_type": "code",
   "execution_count": 15,
   "metadata": {},
   "outputs": [],
   "source": [
    "df2['binary_readmitted'] = np.where(df2['readmitted'] == 'NO', 0, 1)\n",
    "df2['binary_readmitted30'] = np.where(df2['readmitted'] == '<30', 1, 0)"
   ]
  },
  {
   "cell_type": "markdown",
   "metadata": {},
   "source": [
    "# Generate Boosted Gradiant model to show predictive potential and identify most important features"
   ]
  },
  {
   "cell_type": "code",
   "execution_count": 16,
   "metadata": {},
   "outputs": [],
   "source": [
    "y = df2['readmitted']\n",
    "\n",
    "# Add numeric and ordinal features\n",
    "\n",
    "X = df2.loc[:, ('age', 'time_in_hospital', 'num_lab_procedures', 'num_procedures','num_medications',\n",
    "                'number_outpatient', 'number_emergency','number_inpatient', 'number_diagnoses', 'num_hosp_visits',\n",
    "               'discharged_home', 'emergency_room', 'referral')]\n",
    "# Add categorical dummies\n",
    "\n",
    "X = pd.concat([X, pd.get_dummies(df2.loc[:,('race', 'gender', 'max_glu_serum', 'A1Cresult', 'metformin', \n",
    "                                     'repaglinide', 'nateglinide','chlorpropamide', 'glimepiride', \n",
    "                                     'acetohexamide', 'glipizide','glyburide', 'tolbutamide', \n",
    "                                     'pioglitazone', 'rosiglitazone', 'acarbose','miglitol',\n",
    "                                     'troglitazone', 'tolazamide', 'examide', 'citoglipton','insulin', \n",
    "                                     'glyburide-metformin', 'glipizide-metformin',\n",
    "                                     'glimepiride-pioglitazone', 'metformin-rosiglitazone',\n",
    "                                     'metformin-pioglitazone', 'change','diabetesMed',\n",
    "                                    'diag_1_sorted', 'diag_2_sorted', 'diag_3_sorted')])], axis=1)\n",
    "\n",
    "\n",
    "X_train, X_test, y_train, y_test = train_test_split(X,y,test_size = 0.2, random_state = 1)"
   ]
  },
  {
   "cell_type": "code",
   "execution_count": 17,
   "metadata": {},
   "outputs": [
    {
     "name": "stdout",
     "output_type": "stream",
     "text": [
      "There are 159 features included in the model... yikes\n"
     ]
    }
   ],
   "source": [
    "# Check the final number of features included in the model\n",
    "\n",
    "print('There are {} features included in the model... yikes'.format(len(X.columns)))"
   ]
  },
  {
   "cell_type": "code",
   "execution_count": 18,
   "metadata": {},
   "outputs": [
    {
     "name": "stdout",
     "output_type": "stream",
     "text": [
      "Train set mean accuracy: 0.5853191175748047\n",
      "Test set mean accuracy: 0.5851920998329566\n"
     ]
    }
   ],
   "source": [
    "# Initialize and fit the model with default params\n",
    "clf = ensemble.GradientBoostingClassifier()\n",
    "clf.fit(X_train, y_train)\n",
    "\n",
    "print((\n",
    "    'Train set mean accuracy: {}\\n'\n",
    "    'Test set mean accuracy: {}'\n",
    ").format(clf.score(X_train, y_train), clf.score(X_test, y_test)))"
   ]
  },
  {
   "cell_type": "markdown",
   "metadata": {},
   "source": [
    "Well the model did not perform great, but we can start to trim down our feature set, tune this model for better performance, and explore other model types. "
   ]
  },
  {
   "cell_type": "code",
   "execution_count": 19,
   "metadata": {
    "scrolled": false
   },
   "outputs": [
    {
     "data": {
      "image/png": "[encoded data removed]",
      "text/plain": [
       "<Figure size 360x576 with 1 Axes>"
      ]
     },
     "metadata": {
      "needs_background": "light"
     },
     "output_type": "display_data"
    }
   ],
   "source": [
    "feature_importance = clf.feature_importances_\n",
    "feature_importance = 100.0 * (feature_importance / feature_importance.max())\n",
    "\n",
    "feature_df= pd.DataFrame({'features': X.columns,\n",
    "                          'importance':feature_importance})\n",
    "\n",
    "feature_df.sort_values(by='importance', ascending=False, inplace=True)\n",
    "\n",
    "feature_df.index = range(len(feature_df.features))\n",
    "\n",
    "plt.figure(figsize=(5,8))\n",
    "\n",
    "sns.barplot(y=feature_df.features[:30], x=feature_df.importance[:30])\n",
    "\n",
    "plt.title('Top 30 Features Ranked by Importance in Gradient Boost Model')\n",
    "plt.ylabel('')\n",
    "plt.show()"
   ]
  },
  {
   "cell_type": "markdown",
   "metadata": {},
   "source": [
    "It appears that there is a steep drop in importance as we move down the feature list. Let's see how far we can trim our feature set without sacrificing our accuracy."
   ]
  },
  {
   "cell_type": "markdown",
   "metadata": {},
   "source": [
    "# Model exploration"
   ]
  },
  {
   "cell_type": "code",
   "execution_count": 20,
   "metadata": {},
   "outputs": [],
   "source": [
    "# Get stratified sample of dataset that preserves the class sizes of the original data, get dummies\n",
    "\n",
    "sampled_df = df2.loc[df2['readmitted'] == 'NO'].sample(frac=0.1, random_state=1)\n",
    "sampled_df = sampled_df.append(df2.loc[df2['readmitted'] == '<30'].sample(frac=0.1, random_state=1))\n",
    "sampled_df = sampled_df.append(df2.loc[df2['readmitted'] == '>30'].sample(frac=0.1, random_state=1))\n",
    "\n",
    "\n",
    "sampled_df = pd.concat([sampled_df, pd.get_dummies(sampled_df.loc[:,('race', 'gender', 'admission_type_id', 'discharge_disposition_id', \n",
    "                                     'admission_source_id', 'max_glu_serum', 'A1Cresult', 'metformin', \n",
    "                                     'repaglinide', 'nateglinide','chlorpropamide', 'glimepiride', \n",
    "                                     'acetohexamide', 'glipizide','glyburide', 'tolbutamide', \n",
    "                                     'pioglitazone', 'rosiglitazone', 'acarbose','miglitol',\n",
    "                                     'troglitazone', 'tolazamide', 'examide', 'citoglipton','insulin', \n",
    "                                     'glyburide-metformin', 'glipizide-metformin',\n",
    "                                     'glimepiride-pioglitazone', 'metformin-rosiglitazone',\n",
    "                                     'metformin-pioglitazone', 'change','diabetesMed',\n",
    "                                    'diag_1_sorted', 'diag_2_sorted', 'diag_3_sorted')])], axis=1)"
   ]
  },
  {
   "cell_type": "code",
   "execution_count": 21,
   "metadata": {},
   "outputs": [],
   "source": [
    "# Split dataset for modeling\n",
    "\n",
    "y2 = sampled_df['readmitted']\n",
    "X2 = sampled_df[feature_df.loc[:20, 'features']]\n",
    "\n",
    "X2_train, X2_test, y2_train, y2_test = train_test_split(X2,y2,test_size = 0.2, random_state = 1)"
   ]
  },
  {
   "cell_type": "code",
   "execution_count": 22,
   "metadata": {},
   "outputs": [],
   "source": [
    "from sklearn.model_selection import cross_val_score"
   ]
  },
  {
   "cell_type": "code",
   "execution_count": 21,
   "metadata": {},
   "outputs": [
    {
     "name": "stdout",
     "output_type": "stream",
     "text": [
      "Train set statistics\n",
      "Train set mean accuracy across 10 cv folds: 0.5728562696669912\n",
      "Train set cv score range across 10 cv folds: 0.04931368332088237\n",
      "\n",
      "Test set statistics\n",
      "Test set mean accuracy across 10 cv folds: 0.5682877422634234\n",
      "Test set cv score range across 10 cv folds: 0.05124118612962425\n",
      "\n"
     ]
    }
   ],
   "source": [
    "# Initialize and fit the model with default params\n",
    "clf = ensemble.GradientBoostingClassifier()\n",
    "clf.fit(X2_train, y2_train)\n",
    "\n",
    "# Calculate train set performance\n",
    "\n",
    "train_scores = cross_val_score(clf, X2_train, y2_train, cv=10)\n",
    "train_mean = np.mean(train_scores)\n",
    "train_range = train_scores.max()-train_scores.min()\n",
    "\n",
    "# Calculate test set performance\n",
    "\n",
    "test_scores = cross_val_score(clf, X2_test, y2_test, cv=10)\n",
    "test_mean = np.mean(test_scores)\n",
    "test_range = test_scores.max()-test_scores.min()\n",
    "\n",
    "\n",
    "print((\n",
    "    'Train set statistics\\n'\n",
    "    'Train set mean accuracy across 10 cv folds: {}\\n'\n",
    "    'Train set cv score range across 10 cv folds: {}\\n\\n'\n",
    "    'Test set statistics\\n'\n",
    "    'Test set mean accuracy across 10 cv folds: {}\\n'\n",
    "    'Test set cv score range across 10 cv folds: {}\\n'\n",
    ").format(train_mean,train_range,test_mean,test_range))"
   ]
  },
  {
   "cell_type": "markdown",
   "metadata": {},
   "source": [
    "### Testing various classifiers\n",
    "\n",
    "We preserved most of the accuracy of the dataset while trimming our feature set down from 159 to 20. Now let's use cross validation to test various classification models. We will use the exploratory model selection to choose a final model that we can tune."
   ]
  },
  {
   "cell_type": "code",
   "execution_count": 23,
   "metadata": {},
   "outputs": [],
   "source": [
    "from sklearn.neighbors import KNeighborsClassifier"
   ]
  },
  {
   "cell_type": "code",
   "execution_count": 24,
   "metadata": {},
   "outputs": [
    {
     "name": "stdout",
     "output_type": "stream",
     "text": [
      "Train set statistics\n",
      "Train set mean accuracy across 10 cv folds: 0.48267116413495426\n",
      "Train set cv score range across 10 cv folds: 0.03936793969166685\n",
      "\n",
      "Test set statistics\n",
      "Test set mean accuracy across 10 cv folds: 0.49171038389291716\n",
      "Test set cv score range across 10 cv folds: 0.11113007852509393\n",
      "\n"
     ]
    }
   ],
   "source": [
    "knn = KNeighborsClassifier()\n",
    "knn.fit(X2_train, y2_train)\n",
    "\n",
    "# Calculate train set performance\n",
    "\n",
    "train_scores = cross_val_score(knn, X2_train, y2_train, cv=10)\n",
    "train_mean = np.mean(train_scores)\n",
    "train_range = train_scores.max()-train_scores.min()\n",
    "\n",
    "# Calculate test set performance\n",
    "\n",
    "test_scores = cross_val_score(knn, X2_test, y2_test, cv=10)\n",
    "test_mean = np.mean(test_scores)\n",
    "test_range = test_scores.max()-test_scores.min()\n",
    "\n",
    "\n",
    "print((\n",
    "    'Train set statistics\\n'\n",
    "    'Train set mean accuracy across 10 cv folds: {}\\n'\n",
    "    'Train set cv score range across 10 cv folds: {}\\n\\n'\n",
    "    'Test set statistics\\n'\n",
    "    'Test set mean accuracy across 10 cv folds: {}\\n'\n",
    "    'Test set cv score range across 10 cv folds: {}\\n'\n",
    ").format(train_mean,train_range,test_mean,test_range))"
   ]
  },
  {
   "cell_type": "code",
   "execution_count": 22,
   "metadata": {},
   "outputs": [],
   "source": [
    "from sklearn.svm import SVC"
   ]
  },
  {
   "cell_type": "code",
   "execution_count": 24,
   "metadata": {},
   "outputs": [
    {
     "name": "stdout",
     "output_type": "stream",
     "text": [
      "Train set statistics\n",
      "Train set mean accuracy across 10 cv folds: 0.5485234570137113\n",
      "Train set cv score range across 10 cv folds: 0.035670356703567\n",
      "\n",
      "Test set statistics\n",
      "Test set mean accuracy across 10 cv folds: 0.5412518149179414\n",
      "Test set cv score range across 10 cv folds: 0.05911330049261082\n",
      "\n"
     ]
    }
   ],
   "source": [
    "svc = SVC(gamma='auto')\n",
    "svc.fit(X2_train,y2_train)\n",
    "\n",
    "# Calculate train set performance\n",
    "\n",
    "train_scores = cross_val_score(svc, X2_train, y2_train, cv=10)\n",
    "train_mean = np.mean(train_scores)\n",
    "train_range = train_scores.max()-train_scores.min()\n",
    "\n",
    "# Calculate test set performance\n",
    "\n",
    "test_scores = cross_val_score(svc, X2_test, y2_test, cv=10)\n",
    "test_mean = np.mean(test_scores)\n",
    "test_range = test_scores.max()-test_scores.min()\n",
    "\n",
    "\n",
    "print((\n",
    "    'Train set statistics\\n'\n",
    "    'Train set mean accuracy across 10 cv folds: {}\\n'\n",
    "    'Train set cv score range across 10 cv folds: {}\\n\\n'\n",
    "    'Test set statistics\\n'\n",
    "    'Test set mean accuracy across 10 cv folds: {}\\n'\n",
    "    'Test set cv score range across 10 cv folds: {}\\n'\n",
    ").format(train_mean,train_range,test_mean,test_range))"
   ]
  },
  {
   "cell_type": "code",
   "execution_count": 23,
   "metadata": {},
   "outputs": [],
   "source": [
    "from sklearn.ensemble import RandomForestClassifier"
   ]
  },
  {
   "cell_type": "code",
   "execution_count": 31,
   "metadata": {},
   "outputs": [
    {
     "name": "stdout",
     "output_type": "stream",
     "text": [
      "Train set statistics\n",
      "Train set mean accuracy across 10 cv folds: 0.5482774545536866\n",
      "Train set cv score range across 10 cv folds: 0.042944785276073705\n",
      "\n",
      "Test set statistics\n",
      "Test set mean accuracy across 10 cv folds: 0.558478777399759\n",
      "Test set cv score range across 10 cv folds: 0.07647541775330824\n",
      "\n"
     ]
    }
   ],
   "source": [
    "rfc = RandomForestClassifier(n_estimators=100)\n",
    "rfc.fit(X2_train,y2_train)\n",
    "\n",
    "# Calculate train set performance\n",
    "\n",
    "train_scores = cross_val_score(rfc, X2_train, y2_train, cv=10)\n",
    "train_mean = np.mean(train_scores)\n",
    "train_range = train_scores.max()-train_scores.min()\n",
    "\n",
    "# Calculate test set performance\n",
    "\n",
    "test_scores = cross_val_score(rfc, X2_test, y2_test, cv=10)\n",
    "test_mean = np.mean(test_scores)\n",
    "test_range = test_scores.max()-test_scores.min()\n",
    "\n",
    "\n",
    "print((\n",
    "    'Train set statistics\\n'\n",
    "    'Train set mean accuracy across 10 cv folds: {}\\n'\n",
    "    'Train set cv score range across 10 cv folds: {}\\n\\n'\n",
    "    'Test set statistics\\n'\n",
    "    'Test set mean accuracy across 10 cv folds: {}\\n'\n",
    "    'Test set cv score range across 10 cv folds: {}\\n'\n",
    ").format(train_mean,train_range,test_mean,test_range))"
   ]
  },
  {
   "cell_type": "code",
   "execution_count": 32,
   "metadata": {},
   "outputs": [],
   "source": [
    "from sklearn.tree import DecisionTreeClassifier"
   ]
  },
  {
   "cell_type": "code",
   "execution_count": 34,
   "metadata": {},
   "outputs": [
    {
     "name": "stdout",
     "output_type": "stream",
     "text": [
      "Train set statistics\n",
      "Train set mean accuracy across 10 cv folds: 0.4541759294893562\n",
      "Train set cv score range across 10 cv folds: 0.04533387665164995\n",
      "\n",
      "Test set statistics\n",
      "Test set mean accuracy across 10 cv folds: 0.45429776172308056\n",
      "Test set cv score range across 10 cv folds: 0.08130493576741044\n",
      "\n"
     ]
    }
   ],
   "source": [
    "dtc = DecisionTreeClassifier()\n",
    "dtc.fit(X2_train,y2_train)\n",
    "\n",
    "# Calculate train set performance\n",
    "\n",
    "train_scores = cross_val_score(dtc, X2_train, y2_train, cv=10)\n",
    "train_mean = np.mean(train_scores)\n",
    "train_range = train_scores.max()-train_scores.min()\n",
    "\n",
    "# Calculate test set performance\n",
    "\n",
    "test_scores = cross_val_score(dtc, X2_test, y2_test, cv=10)\n",
    "test_mean = np.mean(test_scores)\n",
    "test_range = test_scores.max()-test_scores.min()\n",
    "\n",
    "\n",
    "print((\n",
    "    'Train set statistics\\n'\n",
    "    'Train set mean accuracy across 10 cv folds: {}\\n'\n",
    "    'Train set cv score range across 10 cv folds: {}\\n\\n'\n",
    "    'Test set statistics\\n'\n",
    "    'Test set mean accuracy across 10 cv folds: {}\\n'\n",
    "    'Test set cv score range across 10 cv folds: {}\\n'\n",
    ").format(train_mean,train_range,test_mean,test_range))"
   ]
  },
  {
   "cell_type": "markdown",
   "metadata": {},
   "source": [
    "### Preliminary model evaluation\n",
    "\n",
    "The Gradient Boosted Classifier, Support Vector Classifier, and Random Forest Model were the strongest classifiers for this dataset. To further tune these models, let's use a grid search approach with a sample of the data and then apply the models to the entire datasets. "
   ]
  },
  {
   "cell_type": "code",
   "execution_count": 24,
   "metadata": {},
   "outputs": [],
   "source": [
    "from sklearn.model_selection import GridSearchCV"
   ]
  },
  {
   "cell_type": "code",
   "execution_count": 28,
   "metadata": {},
   "outputs": [],
   "source": [
    "# Get small sample (~1000 samples) that preserves the class sizes of the original data, get dummies\n",
    "\n",
    "sampled_df = df2.loc[df2['readmitted'] == 'NO'].sample(frac=0.01, random_state=1)\n",
    "sampled_df = sampled_df.append(df2.loc[df2['readmitted'] == '<30'].sample(frac=0.01, random_state=1))\n",
    "sampled_df = sampled_df.append(df2.loc[df2['readmitted'] == '>30'].sample(frac=0.01, random_state=1))\n",
    "\n",
    "\n",
    "sampled_df = pd.concat([sampled_df, pd.get_dummies(sampled_df.loc[:,('race', 'gender', 'admission_type_id', 'discharge_disposition_id', \n",
    "                                     'admission_source_id', 'max_glu_serum', 'A1Cresult', 'metformin', \n",
    "                                     'repaglinide', 'nateglinide','chlorpropamide', 'glimepiride', \n",
    "                                     'acetohexamide', 'glipizide','glyburide', 'tolbutamide', \n",
    "                                     'pioglitazone', 'rosiglitazone', 'acarbose','miglitol',\n",
    "                                     'troglitazone', 'tolazamide', 'examide', 'citoglipton','insulin', \n",
    "                                     'glyburide-metformin', 'glipizide-metformin',\n",
    "                                     'glimepiride-pioglitazone', 'metformin-rosiglitazone',\n",
    "                                     'metformin-pioglitazone', 'change','diabetesMed',\n",
    "                                    'diag_1_sorted', 'diag_2_sorted', 'diag_3_sorted')])], axis=1)"
   ]
  },
  {
   "cell_type": "code",
   "execution_count": 29,
   "metadata": {},
   "outputs": [],
   "source": [
    "# Split dataset for modeling\n",
    "\n",
    "y3 = sampled_df['readmitted']\n",
    "X3 = sampled_df[feature_df.loc[:20, 'features']]\n",
    "\n",
    "X3_train, X3_test, y3_train, y3_test = train_test_split(X3,y3,test_size = 0.2, random_state = 1)"
   ]
  },
  {
   "cell_type": "markdown",
   "metadata": {},
   "source": [
    "### Grid Search for Gradient Boosting Classifier"
   ]
  },
  {
   "cell_type": "code",
   "execution_count": 52,
   "metadata": {},
   "outputs": [
    {
     "name": "stdout",
     "output_type": "stream",
     "text": [
      "The Gradient Boosting Algorithm best estimator: \n",
      "\n",
      "GradientBoostingClassifier(criterion='friedman_mse', init=None,\n",
      "                           learning_rate=0.01, loss='deviance', max_depth=4,\n",
      "                           max_features=None, max_leaf_nodes=None,\n",
      "                           min_impurity_decrease=0.0, min_impurity_split=None,\n",
      "                           min_samples_leaf=1, min_samples_split=0.7,\n",
      "                           min_weight_fraction_leaf=0.0, n_estimators=200,\n",
      "                           n_iter_no_change=None, presort='auto',\n",
      "                           random_state=None, subsample=1.0, tol=0.0001,\n",
      "                           validation_fraction=0.1, verbose=0,\n",
      "                           warm_start=False)\n"
     ]
    }
   ],
   "source": [
    "# Initialize model, set paramaters to test, fit data\n",
    "\n",
    "gbc = ensemble.GradientBoostingClassifier()\n",
    "paramaters = {'n_estimators': [200, 400, 800, 1000],\n",
    "              'max_depth': [2,4,6],\n",
    "             'learning_rate':[1,0.1,0.01],\n",
    "             'min_samples_split':[0.7,0.8,0.9]}\n",
    "\n",
    "clf= GridSearchCV(gbc, paramaters, cv=5, iid='False')\n",
    "clf.fit(X3_train, y3_train)\n",
    "\n",
    "print('The Gradient Boosting Algorithm best estimator: \\n')\n",
    "print(clf.best_estimator_)"
   ]
  },
  {
   "cell_type": "markdown",
   "metadata": {},
   "source": [
    "### Grid Search for Support Vector Classifier"
   ]
  },
  {
   "cell_type": "code",
   "execution_count": 47,
   "metadata": {},
   "outputs": [
    {
     "name": "stdout",
     "output_type": "stream",
     "text": [
      "The Support Vector Classifier best estimator: \n",
      "\n",
      "SVC(C=10, cache_size=200, class_weight=None, coef0=0.0,\n",
      "    decision_function_shape='ovr', degree=3, gamma=0.001, kernel='linear',\n",
      "    max_iter=-1, probability=False, random_state=None, shrinking=True,\n",
      "    tol=0.001, verbose=False)\n"
     ]
    }
   ],
   "source": [
    "# Initialize model, set paramaters to test, fit data\n",
    "\n",
    "paramaters = {'C': [0.001, 0.01, 0.1, 1, 10],\n",
    "             'gamma': [0.001, 0.01, 0.1, 1, 10],\n",
    "             'kernel': ['linear','rbf']}\n",
    "\n",
    "clf = GridSearchCV(SVC(), paramaters, cv=5, iid='False')\n",
    "clf.fit(X3_train, y3_train)\n",
    "\n",
    "print('The Support Vector Classifier best estimator: \\n')\n",
    "print(clf.best_estimator_)"
   ]
  },
  {
   "cell_type": "markdown",
   "metadata": {},
   "source": [
    "### Grid Search for Random Forest Model"
   ]
  },
  {
   "cell_type": "code",
   "execution_count": 53,
   "metadata": {},
   "outputs": [
    {
     "name": "stdout",
     "output_type": "stream",
     "text": [
      "The Support Vector Classifier best estimator: \n",
      "\n",
      "RandomForestClassifier(bootstrap=True, class_weight=None, criterion='gini',\n",
      "                       max_depth=5, max_features='auto', max_leaf_nodes=None,\n",
      "                       min_impurity_decrease=0.0, min_impurity_split=None,\n",
      "                       min_samples_leaf=2, min_samples_split=5,\n",
      "                       min_weight_fraction_leaf=0.0, n_estimators=200,\n",
      "                       n_jobs=None, oob_score=False, random_state=None,\n",
      "                       verbose=0, warm_start=False)\n"
     ]
    }
   ],
   "source": [
    "# Initialize model, set paramaters to test, fit data\n",
    "\n",
    "paramaters = {'max_depth': [5,10,15, None],\n",
    "              'max_features': ['auto', 'sqrt'],\n",
    "              'min_samples_leaf': [1, 2, 4],\n",
    "              'min_samples_split': [2, 5, 10],\n",
    "              'n_estimators': [200, 400, 800, 1000]}\n",
    "\n",
    "clf = GridSearchCV(RandomForestClassifier(), paramaters, cv=5, iid='False')\n",
    "clf.fit(X3_train, y3_train)\n",
    "\n",
    "print('The Random Forest Model best estimator: \\n')\n",
    "print(clf.best_estimator_)"
   ]
  },
  {
   "cell_type": "markdown",
   "metadata": {},
   "source": [
    "## Applying the models to the entire dataset"
   ]
  },
  {
   "cell_type": "markdown",
   "metadata": {},
   "source": [
    "### Gradient Boosted Classifier"
   ]
  },
  {
   "cell_type": "code",
   "execution_count": 30,
   "metadata": {},
   "outputs": [],
   "source": [
    "y4 = df2['readmitted']\n",
    "X4 = X[feature_df.loc[:20, 'features']]\n",
    "\n",
    "X4_train, X4_test, y4_train, y4_test = train_test_split(X4,y4,test_size = 0.2, random_state = 1)"
   ]
  },
  {
   "cell_type": "code",
   "execution_count": 31,
   "metadata": {},
   "outputs": [
    {
     "name": "stdout",
     "output_type": "stream",
     "text": [
      "Train set statistics\n",
      "Train set mean accuracy across 10 cv folds: 0.5693630742950686\n",
      "Train set cv score range across 10 cv folds: 0.01110587634391913\n",
      "\n",
      "Test set statistics\n",
      "Test set mean accuracy across 10 cv folds: 0.5757090661650469\n",
      "Test set cv score range across 10 cv folds: 0.019291340293073778\n",
      "\n"
     ]
    }
   ],
   "source": [
    "# Initialize and fit the model with the params selected by grid search\n",
    "\n",
    "clf = ensemble.GradientBoostingClassifier(criterion='friedman_mse', init=None,\n",
    "                           learning_rate=0.01, loss='deviance', max_depth=4,\n",
    "                           max_features=None, max_leaf_nodes=None,\n",
    "                           min_impurity_decrease=0.0, min_impurity_split=None,\n",
    "                           min_samples_leaf=1, min_samples_split=0.7,\n",
    "                           min_weight_fraction_leaf=0.0, n_estimators=200,\n",
    "                           n_iter_no_change=None, presort='auto',\n",
    "                           random_state=None, subsample=1.0, tol=0.0001,\n",
    "                           validation_fraction=0.1, verbose=0,\n",
    "                           warm_start=False)\n",
    "clf.fit(X4_train, y4_train)\n",
    "\n",
    "# Calculate train set performance\n",
    "\n",
    "train_scores = cross_val_score(clf, X4_train, y4_train, cv=10)\n",
    "train_mean = np.mean(train_scores)\n",
    "train_range = train_scores.max()-train_scores.min()\n",
    "\n",
    "# Calculate test set performance\n",
    "\n",
    "test_scores = cross_val_score(clf, X4_test, y4_test, cv=10)\n",
    "test_mean = np.mean(test_scores)\n",
    "test_range = test_scores.max()-test_scores.min()\n",
    "\n",
    "\n",
    "print((\n",
    "    'Train set statistics\\n'\n",
    "    'Train set mean accuracy across 10 cv folds: {}\\n'\n",
    "    'Train set cv score range across 10 cv folds: {}\\n\\n'\n",
    "    'Test set statistics\\n'\n",
    "    'Test set mean accuracy across 10 cv folds: {}\\n'\n",
    "    'Test set cv score range across 10 cv folds: {}\\n'\n",
    ").format(train_mean,train_range,test_mean,test_range))"
   ]
  },
  {
   "cell_type": "markdown",
   "metadata": {},
   "source": [
    "### SVC"
   ]
  },
  {
   "cell_type": "code",
   "execution_count": 32,
   "metadata": {},
   "outputs": [
    {
     "name": "stdout",
     "output_type": "stream",
     "text": [
      "Train set statistics\n",
      "Train set mean accuracy across 10 cv folds: 0.5606897124185966\n",
      "Train set cv score range across 10 cv folds: 0.02331288343558291\n",
      "\n",
      "Test set statistics\n",
      "Test set mean accuracy across 10 cv folds: 0.5682925949901815\n",
      "Test set cv score range across 10 cv folds: 0.05681927943591236\n",
      "\n"
     ]
    }
   ],
   "source": [
    "# Initialize and fit the model with the params selected by grid search\n",
    "\n",
    "# After multiple attempts to run this model with the entire dataset, I had no choice but to run only 10%\n",
    "\n",
    "svc = SVC(C=10, cache_size=200, class_weight=None, coef0=0.0,\n",
    "    decision_function_shape='ovr', degree=3, gamma=0.001, kernel='linear',\n",
    "    max_iter=-1, probability=False, random_state=None, shrinking=True,\n",
    "    tol=0.001, verbose=False)\n",
    "svc.fit(X2_train,y2_train)\n",
    "\n",
    "# Calculate train set performance\n",
    "\n",
    "train_scores = cross_val_score(svc, X2_train, y2_train, cv=10, n_jobs=3)\n",
    "train_mean = np.mean(train_scores)\n",
    "train_range = train_scores.max()-train_scores.min()\n",
    "\n",
    "# Calculate test set performance\n",
    "\n",
    "test_scores = cross_val_score(svc, X2_test, y2_test, cv=10, n_jobs=3)\n",
    "test_mean = np.mean(test_scores)\n",
    "test_range = test_scores.max()-test_scores.min()\n",
    "\n",
    "\n",
    "print((\n",
    "    'Train set statistics\\n'\n",
    "    'Train set mean accuracy across 10 cv folds: {}\\n'\n",
    "    'Train set cv score range across 10 cv folds: {}\\n\\n'\n",
    "    'Test set statistics\\n'\n",
    "    'Test set mean accuracy across 10 cv folds: {}\\n'\n",
    "    'Test set cv score range across 10 cv folds: {}\\n'\n",
    ").format(train_mean,train_range,test_mean,test_range))"
   ]
  },
  {
   "cell_type": "markdown",
   "metadata": {},
   "source": [
    "### Random Forest Classifier"
   ]
  },
  {
   "cell_type": "code",
   "execution_count": 38,
   "metadata": {},
   "outputs": [
    {
     "name": "stdout",
     "output_type": "stream",
     "text": [
      "Train set statistics\n",
      "Train set mean accuracy across 10 cv folds: 0.5751853342001169\n",
      "Train set cv score range across 10 cv folds: 0.012754735427775943\n",
      "\n",
      "Test set statistics\n",
      "Test set mean accuracy across 10 cv folds: 0.5783630152729149\n",
      "Test set cv score range across 10 cv folds: 0.01628545133699777\n",
      "\n"
     ]
    }
   ],
   "source": [
    "# Initialize and fit the model with the params selected by grid search\n",
    "\n",
    "rfc = RandomForestClassifier(bootstrap=True, class_weight=None, criterion='gini',\n",
    "                       max_depth=5, max_features='auto', max_leaf_nodes=None,\n",
    "                       min_impurity_decrease=0.0, min_impurity_split=None,\n",
    "                       min_samples_leaf=2, min_samples_split=5,\n",
    "                       min_weight_fraction_leaf=0.0, n_estimators=200,\n",
    "                       n_jobs=None, oob_score=False, random_state=None,\n",
    "                       verbose=0, warm_start=False)\n",
    "rfc.fit(X4_train,y4_train)\n",
    "\n",
    "# Calculate train set performance\n",
    "\n",
    "train_scores = cross_val_score(rfc, X4_train, y4_train, cv=10)\n",
    "train_mean = np.mean(train_scores)\n",
    "train_range = train_scores.max()-train_scores.min()\n",
    "\n",
    "# Calculate test set performance\n",
    "\n",
    "test_scores = cross_val_score(rfc, X4_test, y4_test, cv=10)\n",
    "test_mean = np.mean(test_scores)\n",
    "test_range = test_scores.max()-test_scores.min()\n",
    "\n",
    "\n",
    "print((\n",
    "    'Train set statistics\\n'\n",
    "    'Train set mean accuracy across 10 cv folds: {}\\n'\n",
    "    'Train set cv score range across 10 cv folds: {}\\n\\n'\n",
    "    'Test set statistics\\n'\n",
    "    'Test set mean accuracy across 10 cv folds: {}\\n'\n",
    "    'Test set cv score range across 10 cv folds: {}\\n'\n",
    ").format(train_mean,train_range,test_mean,test_range))"
   ]
  },
  {
   "cell_type": "markdown",
   "metadata": {},
   "source": [
    "# Next steps\n",
    "\n",
    "    - So far none of the models are performing very well (~20% better than chance)\n",
    "    - Our Gradient Boosted Model performed worse than the original model with default params but all features \n",
    "    - Let's have the best performer (RFC model) try only classifying if patients will be readmitted or not\n",
    "    - To increase the complexity of the model, let's increase the number of features from 20 to 40"
   ]
  },
  {
   "cell_type": "code",
   "execution_count": 34,
   "metadata": {},
   "outputs": [],
   "source": [
    "y = df2['binary_readmitted']\n",
    "X = X[feature_df.loc[:40, 'features']]\n",
    "\n",
    "X_train, X_test, y_train, y_test = train_test_split(X,y,test_size = 0.2, random_state = 1)"
   ]
  },
  {
   "cell_type": "code",
   "execution_count": 35,
   "metadata": {},
   "outputs": [
    {
     "name": "stdout",
     "output_type": "stream",
     "text": [
      "Train set statistics\n",
      "Train set mean accuracy across 10 cv folds: 0.6230409271756603\n",
      "Train set cv score range across 10 cv folds: 0.015108709003807896\n",
      "\n",
      "Test set statistics\n",
      "Test set mean accuracy across 10 cv folds: 0.6293111037471315\n",
      "Test set cv score range across 10 cv folds: 0.02633524395924891\n",
      "\n"
     ]
    }
   ],
   "source": [
    "rfc = RandomForestClassifier(bootstrap=True, class_weight=None, criterion='gini',\n",
    "                       max_depth=5, max_features='auto', max_leaf_nodes=None,\n",
    "                       min_impurity_decrease=0.0, min_impurity_split=None,\n",
    "                       min_samples_leaf=2, min_samples_split=5,\n",
    "                       min_weight_fraction_leaf=0.0, n_estimators=200,\n",
    "                       n_jobs=None, oob_score=False, random_state=None,\n",
    "                       verbose=0, warm_start=False)\n",
    "rfc.fit(X_train,y_train)\n",
    "\n",
    "# Calculate train set performance\n",
    "\n",
    "train_scores = cross_val_score(rfc, X_train, y_train, cv=10)\n",
    "train_mean = np.mean(train_scores)\n",
    "train_range = train_scores.max()-train_scores.min()\n",
    "\n",
    "# Calculate test set performance\n",
    "\n",
    "test_scores = cross_val_score(rfc, X_test, y_test, cv=10)\n",
    "test_mean = np.mean(test_scores)\n",
    "test_range = test_scores.max()-test_scores.min()\n",
    "\n",
    "print((\n",
    "    'Train set statistics\\n'\n",
    "    'Train set mean accuracy across 10 cv folds: {}\\n'\n",
    "    'Train set cv score range across 10 cv folds: {}\\n\\n'\n",
    "    'Test set statistics\\n'\n",
    "    'Test set mean accuracy across 10 cv folds: {}\\n'\n",
    "    'Test set cv score range across 10 cv folds: {}\\n'\n",
    ").format(train_mean,train_range,test_mean,test_range))"
   ]
  },
  {
   "cell_type": "markdown",
   "metadata": {},
   "source": [
    "Even with the simplified classification, the model is still unable to accurately predict readmission. To further simplify the classification, let's simply try to classify patients that will be readmitted within 30 days."
   ]
  },
  {
   "cell_type": "code",
   "execution_count": 25,
   "metadata": {},
   "outputs": [],
   "source": [
    "y = df2['binary_readmitted30']\n",
    "X = X[feature_df.loc[:40, 'features']]\n",
    "\n",
    "X_train, X_test, y_train, y_test = train_test_split(X,y,test_size = 0.2, random_state = 1)"
   ]
  },
  {
   "cell_type": "code",
   "execution_count": 37,
   "metadata": {},
   "outputs": [
    {
     "name": "stdout",
     "output_type": "stream",
     "text": [
      "Train set statistics\n",
      "Train set mean accuracy across 10 cv folds: 0.8873876113762034\n",
      "Train set cv score range across 10 cv folds: 0.00010901231881454976\n",
      "\n",
      "Test set statistics\n",
      "Test set mean accuracy across 10 cv folds: 0.8924535941660444\n",
      "Test set cv score range across 10 cv folds: 0.0004387331820959739\n",
      "\n"
     ]
    }
   ],
   "source": [
    "rfc = RandomForestClassifier(bootstrap=True, class_weight=None, criterion='gini',\n",
    "                       max_depth=5, max_features='auto', max_leaf_nodes=None,\n",
    "                       min_impurity_decrease=0.0, min_impurity_split=None,\n",
    "                       min_samples_leaf=2, min_samples_split=5,\n",
    "                       min_weight_fraction_leaf=0.0, n_estimators=200,\n",
    "                       n_jobs=None, oob_score=False, random_state=None,\n",
    "                       verbose=0, warm_start=False)\n",
    "rfc.fit(X_train,y_train)\n",
    "\n",
    "# Calculate train set performance\n",
    "\n",
    "train_scores = cross_val_score(rfc, X_train, y_train, cv=10)\n",
    "train_mean = np.mean(train_scores)\n",
    "train_range = train_scores.max()-train_scores.min()\n",
    "\n",
    "# Calculate test set performance\n",
    "\n",
    "test_scores = cross_val_score(rfc, X_test, y_test, cv=10)\n",
    "test_mean = np.mean(test_scores)\n",
    "test_range = test_scores.max()-test_scores.min()\n",
    "\n",
    "\n",
    "print((\n",
    "    'Train set statistics\\n'\n",
    "    'Train set mean accuracy across 10 cv folds: {}\\n'\n",
    "    'Train set cv score range across 10 cv folds: {}\\n\\n'\n",
    "    'Test set statistics\\n'\n",
    "    'Test set mean accuracy across 10 cv folds: {}\\n'\n",
    "    'Test set cv score range across 10 cv folds: {}\\n'\n",
    ").format(train_mean,train_range,test_mean,test_range))"
   ]
  },
  {
   "cell_type": "markdown",
   "metadata": {},
   "source": [
    "This accuracy is suspicously high and consistent, let's check the predictions made by the model."
   ]
  },
  {
   "cell_type": "code",
   "execution_count": 32,
   "metadata": {},
   "outputs": [
    {
     "data": {
      "text/plain": [
       "0"
      ]
     },
     "execution_count": 32,
     "metadata": {},
     "output_type": "execute_result"
    }
   ],
   "source": [
    "rfc.predict(X_test).sum()"
   ]
  },
  {
   "cell_type": "markdown",
   "metadata": {},
   "source": [
    "The model predicted that all patients would not be readmitted within 30 days, resulting in an accuracy of 89% due to the large class imbalance. Let's try a grid search again, this time using a different scoring metric. Because our model is not identifying any positive samples, we should use grid search to identiy a model which optimizes both accuracy and sensitivity (the ability of the classifier to find all positive samples)."
   ]
  },
  {
   "cell_type": "code",
   "execution_count": 38,
   "metadata": {},
   "outputs": [],
   "source": [
    "# Split dataset for grid search\n",
    "\n",
    "y3 = sampled_df['binary_readmitted30']\n",
    "X3 = sampled_df[feature_df.loc[:40, 'features']]\n",
    "\n",
    "X3_train, X3_test, y3_train, y3_test = train_test_split(X3,y3,test_size = 0.2, random_state = 1)"
   ]
  },
  {
   "cell_type": "code",
   "execution_count": 31,
   "metadata": {},
   "outputs": [],
   "source": [
    "from sklearn.metrics import recall_score"
   ]
  },
  {
   "cell_type": "code",
   "execution_count": 44,
   "metadata": {},
   "outputs": [
    {
     "name": "stdout",
     "output_type": "stream",
     "text": [
      "The Random Forest Model best estimator: \n",
      "\n",
      "RandomForestClassifier(bootstrap=True, class_weight=None, criterion='gini',\n",
      "                       max_depth=10, max_features='auto', max_leaf_nodes=None,\n",
      "                       min_impurity_decrease=0.0, min_impurity_split=None,\n",
      "                       min_samples_leaf=1, min_samples_split=2,\n",
      "                       min_weight_fraction_leaf=0.0, n_estimators=400,\n",
      "                       n_jobs=None, oob_score=False, random_state=None,\n",
      "                       verbose=0, warm_start=False)\n"
     ]
    }
   ],
   "source": [
    "# Initialize model, set paramaters to test, fit data\n",
    "\n",
    "paramaters = {'max_depth': [5,10,15, None],\n",
    "              'max_features': ['auto', 'sqrt'],\n",
    "              'min_samples_leaf': [1, 2, 4],\n",
    "              'min_samples_split': [2, 5, 10],\n",
    "              'n_estimators': [200, 400, 800, 1000]}\n",
    "\n",
    "clf = GridSearchCV(RandomForestClassifier(), paramaters, cv=5, iid='False', \n",
    "                   scoring=['accuracy', 'recall'],\n",
    "                  refit='recall')\n",
    "clf.fit(X3_train, y3_train)\n",
    "\n",
    "print('The Random Forest Model best estimator: \\n')\n",
    "print(clf.best_estimator_)"
   ]
  },
  {
   "cell_type": "code",
   "execution_count": 43,
   "metadata": {},
   "outputs": [
    {
     "name": "stdout",
     "output_type": "stream",
     "text": [
      "Train set statistics\n",
      "Train set mean accuracy across 10 cv folds: 0.8874490319105387\n",
      "Train set cv score range across 10 cv folds: 0.0009550382431737781\n",
      "\n",
      "Test set statistics\n",
      "Test set mean accuracy across 10 cv folds: 0.8926501785219207\n",
      "Test set cv score range across 10 cv folds: 0.0014211031892761294\n",
      "\n"
     ]
    }
   ],
   "source": [
    "rfc = RandomForestClassifier(bootstrap=True, class_weight=None, criterion='gini',\n",
    "                       max_depth=10, max_features='auto', max_leaf_nodes=None,\n",
    "                       min_impurity_decrease=0.0, min_impurity_split=None,\n",
    "                       min_samples_leaf=1, min_samples_split=2,\n",
    "                       min_weight_fraction_leaf=0.0, n_estimators=400,\n",
    "                       n_jobs=None, oob_score=False, random_state=None,\n",
    "                       verbose=0, warm_start=False)\n",
    "rfc.fit(X_train,y_train)\n",
    "\n",
    "# Calculate train set performance\n",
    "\n",
    "train_scores = cross_val_score(rfc, X_train, y_train, cv=10)\n",
    "train_mean = np.mean(train_scores)\n",
    "train_range = train_scores.max()-train_scores.min()\n",
    "\n",
    "# Calculate test set performance\n",
    "\n",
    "test_scores = cross_val_score(rfc, X_test, y_test, cv=10)\n",
    "test_mean = np.mean(test_scores)\n",
    "test_range = test_scores.max()-test_scores.min()\n",
    "\n",
    "\n",
    "print((\n",
    "    'Train set statistics\\n'\n",
    "    'Train set mean accuracy across 10 cv folds: {}\\n'\n",
    "    'Train set cv score range across 10 cv folds: {}\\n\\n'\n",
    "    'Test set statistics\\n'\n",
    "    'Test set mean accuracy across 10 cv folds: {}\\n'\n",
    "    'Test set cv score range across 10 cv folds: {}\\n'\n",
    ").format(train_mean,train_range,test_mean,test_range))"
   ]
  },
  {
   "cell_type": "markdown",
   "metadata": {
    "scrolled": true
   },
   "source": [
    "The model has appeared to change by a very small amount. Let's calculate the sensitivity of the model (i.e. the number of true positives identified by the model/ the number of positives in the data)"
   ]
  },
  {
   "cell_type": "code",
   "execution_count": 44,
   "metadata": {},
   "outputs": [
    {
     "data": {
      "text/plain": [
       "0.005025125628140704"
      ]
     },
     "execution_count": 44,
     "metadata": {},
     "output_type": "execute_result"
    }
   ],
   "source": [
    "recall_score(y_test, rfc.predict(X_test))"
   ]
  },
  {
   "cell_type": "markdown",
   "metadata": {},
   "source": [
    "Well we have identified some of the positive cases, but this is an unacceptablely low sensitivity for the model. When aiming to identify patients who may need additional care, it would be better to have a high sensitivity. To improve the performance of the model, let's try 3 resampling techniques to balance the class imbalance in the data."
   ]
  },
  {
   "cell_type": "markdown",
   "metadata": {},
   "source": [
    "# Resampling the data to improve sensitivity"
   ]
  },
  {
   "cell_type": "markdown",
   "metadata": {},
   "source": [
    "### Upsampling the minority class"
   ]
  },
  {
   "cell_type": "code",
   "execution_count": 45,
   "metadata": {},
   "outputs": [],
   "source": [
    "from sklearn.utils import resample"
   ]
  },
  {
   "cell_type": "code",
   "execution_count": 49,
   "metadata": {},
   "outputs": [
    {
     "data": {
      "text/plain": [
       "1    72244\n",
       "0    72244\n",
       "Name: binary_readmitted30, dtype: int64"
      ]
     },
     "execution_count": 49,
     "metadata": {},
     "output_type": "execute_result"
    }
   ],
   "source": [
    "# Create df to upsample using the previously split training data\n",
    "\n",
    "X_up = pd.concat([X_train, y_train], axis=1)\n",
    "\n",
    "# Seperate into readmitted/not_readmitted\n",
    "\n",
    "readmitted = X_up[X_up['binary_readmitted30'] == 1]\n",
    "not_readmitted = X_up[X_up['binary_readmitted30'] == 0]\n",
    "\n",
    "# Upsample the minority class to match the majority\n",
    "\n",
    "readmitted_up = resample(readmitted, replace=True, n_samples=len(not_readmitted), random_state=1)\n",
    "\n",
    "# Combine majority and upsampled minority\n",
    "\n",
    "X_up = pd.concat([not_readmitted, readmitted_up])\n",
    "\n",
    "# Check class counts\n",
    "\n",
    "X_up['binary_readmitted30'].value_counts()"
   ]
  },
  {
   "cell_type": "code",
   "execution_count": 55,
   "metadata": {},
   "outputs": [],
   "source": [
    "# Split our upsampled data \n",
    "\n",
    "y_train = X_up['binary_readmitted30']\n",
    "X_train = X_up.drop('binary_readmitted30', axis=1)"
   ]
  },
  {
   "cell_type": "code",
   "execution_count": 52,
   "metadata": {},
   "outputs": [
    {
     "name": "stdout",
     "output_type": "stream",
     "text": [
      "Train set statistics\n",
      "Train set mean accuracy across 10 cv folds: 0.6644982143336129\n",
      "Train set cv score range across 10 cv folds: 0.016633482394325716\n",
      "\n",
      "Test set statistics\n",
      "Test set mean accuracy across 10 cv folds: 0.8926501543626048\n",
      "Test set cv score range across 10 cv folds: 0.0014211031892761294\n",
      "Test set sensitivty score: 0.5788031064412974\n"
     ]
    }
   ],
   "source": [
    "rfc = RandomForestClassifier(bootstrap=True, class_weight=None, criterion='gini',\n",
    "                       max_depth=10, max_features='auto', max_leaf_nodes=None,\n",
    "                       min_impurity_decrease=0.0, min_impurity_split=None,\n",
    "                       min_samples_leaf=1, min_samples_split=2,\n",
    "                       min_weight_fraction_leaf=0.0, n_estimators=400,\n",
    "                       n_jobs=None, oob_score=False, random_state=None,\n",
    "                       verbose=0, warm_start=False)\n",
    "rfc.fit(X_train,y_train)\n",
    "\n",
    "# Calculate train set performance\n",
    "\n",
    "train_scores = cross_val_score(rfc, X_train, y_train, cv=10, n_jobs=3)\n",
    "train_mean = np.mean(train_scores)\n",
    "train_range = train_scores.max()-train_scores.min()\n",
    "\n",
    "# Calculate test set performance\n",
    "\n",
    "test_scores = cross_val_score(rfc, X_test, y_test, cv=10, n_jobs=3)\n",
    "test_mean = np.mean(test_scores)\n",
    "test_range = test_scores.max()-test_scores.min()\n",
    "\n",
    "\n",
    "print((\n",
    "    'Train set statistics\\n'\n",
    "    'Train set mean accuracy across 10 cv folds: {}\\n'\n",
    "    'Train set cv score range across 10 cv folds: {}\\n\\n'\n",
    "    'Test set statistics\\n'\n",
    "    'Test set mean accuracy across 10 cv folds: {}\\n'\n",
    "    'Test set cv score range across 10 cv folds: {}\\n'\n",
    "    'Test set sensitivty score: {}'\n",
    ").format(train_mean,train_range,test_mean,test_range,recall_score(y_test, rfc.predict(X_test))))"
   ]
  },
  {
   "cell_type": "markdown",
   "metadata": {},
   "source": [
    "Upsampling the minority class resulted in a huge increase in the sensitivity of the model without sacrificing overall accuracy or variance. Next let's try undersampling the majority class, the concern with this approach will be overfitting the data."
   ]
  },
  {
   "cell_type": "markdown",
   "metadata": {},
   "source": [
    "### Undersampling the majority class"
   ]
  },
  {
   "cell_type": "code",
   "execution_count": 53,
   "metadata": {},
   "outputs": [
    {
     "data": {
      "text/plain": [
       "1    9168\n",
       "0    9168\n",
       "Name: binary_readmitted30, dtype: int64"
      ]
     },
     "execution_count": 53,
     "metadata": {},
     "output_type": "execute_result"
    }
   ],
   "source": [
    "# Undersampling the majority class\n",
    "\n",
    "not_readmitted_down = resample(not_readmitted, \n",
    "                              replace=False,\n",
    "                              n_samples=len(readmitted),\n",
    "                              random_state=1)\n",
    "\n",
    "# Combine classes\n",
    "\n",
    "X_down = pd.concat([not_readmitted_down, readmitted])\n",
    "\n",
    "# Check class counts\n",
    "\n",
    "X_down['binary_readmitted30'].value_counts()"
   ]
  },
  {
   "cell_type": "code",
   "execution_count": 56,
   "metadata": {},
   "outputs": [],
   "source": [
    "# Split our undersampled data\n",
    "\n",
    "y_train = X_down['binary_readmitted30']\n",
    "X_train = X_down.drop('binary_readmitted30', axis=1)"
   ]
  },
  {
   "cell_type": "code",
   "execution_count": 57,
   "metadata": {},
   "outputs": [
    {
     "name": "stdout",
     "output_type": "stream",
     "text": [
      "Train set statistics\n",
      "Train set mean accuracy across 10 cv folds: 0.6057489416313876\n",
      "Train set cv score range across 10 cv folds: 0.022482892286885714\n",
      "\n",
      "Test set statistics\n",
      "Test set mean accuracy across 10 cv folds: 0.8927484344846167\n",
      "Test set cv score range across 10 cv folds: 0.0013686774731335172\n",
      "Test set sensitivty score: 0.6253997259022385\n"
     ]
    }
   ],
   "source": [
    "rfc = RandomForestClassifier(bootstrap=True, class_weight=None, criterion='gini',\n",
    "                       max_depth=10, max_features='auto', max_leaf_nodes=None,\n",
    "                       min_impurity_decrease=0.0, min_impurity_split=None,\n",
    "                       min_samples_leaf=1, min_samples_split=2,\n",
    "                       min_weight_fraction_leaf=0.0, n_estimators=400,\n",
    "                       n_jobs=None, oob_score=False, random_state=None,\n",
    "                       verbose=0, warm_start=False)\n",
    "rfc.fit(X_train,y_train)\n",
    "\n",
    "# Calculate train set performance\n",
    "\n",
    "train_scores = cross_val_score(rfc, X_train, y_train, cv=10, n_jobs=3)\n",
    "train_mean = np.mean(train_scores)\n",
    "train_range = train_scores.max()-train_scores.min()\n",
    "\n",
    "# Calculate test set performance\n",
    "\n",
    "test_scores = cross_val_score(rfc, X_test, y_test, cv=10, n_jobs=3)\n",
    "test_mean = np.mean(test_scores)\n",
    "test_range = test_scores.max()-test_scores.min()\n",
    "\n",
    "\n",
    "print((\n",
    "    'Train set statistics\\n'\n",
    "    'Train set mean accuracy across 10 cv folds: {}\\n'\n",
    "    'Train set cv score range across 10 cv folds: {}\\n\\n'\n",
    "    'Test set statistics\\n'\n",
    "    'Test set mean accuracy across 10 cv folds: {}\\n'\n",
    "    'Test set cv score range across 10 cv folds: {}\\n'\n",
    "    'Test set sensitivty score: {}'\n",
    ").format(train_mean,train_range,test_mean,test_range,recall_score(y_test, rfc.predict(X_test))))"
   ]
  },
  {
   "cell_type": "markdown",
   "metadata": {},
   "source": [
    "Undersampling the majority class resulted in a superior model when compared to the oversampled minority model. Again accuracy was not affected, however our model sensitivity has continued to rise. The final approach we will try will be generating synthetic samples to increase the size of the minority class."
   ]
  },
  {
   "cell_type": "markdown",
   "metadata": {},
   "source": [
    "# Upsampling the minority class using synthetic samples via SMOTE"
   ]
  },
  {
   "cell_type": "code",
   "execution_count": 28,
   "metadata": {},
   "outputs": [],
   "source": [
    "from imblearn.over_sampling import SMOTE"
   ]
  },
  {
   "cell_type": "code",
   "execution_count": 27,
   "metadata": {},
   "outputs": [],
   "source": [
    "# Reset our train data\n",
    "\n",
    "y = df2['binary_readmitted30']\n",
    "X = X[feature_df.loc[:40, 'features']]\n",
    "\n",
    "X_train, X_test, y_train, y_test = train_test_split(X,y,test_size = 0.2, random_state = 1)"
   ]
  },
  {
   "cell_type": "code",
   "execution_count": 29,
   "metadata": {},
   "outputs": [],
   "source": [
    "sm = SMOTE(random_state=1, ratio=1.0)\n",
    "\n",
    "X_train, y_train = sm.fit_sample(X_train, y_train)"
   ]
  },
  {
   "cell_type": "code",
   "execution_count": 32,
   "metadata": {},
   "outputs": [
    {
     "name": "stdout",
     "output_type": "stream",
     "text": [
      "Train set statistics\n",
      "Train set mean accuracy across 10 cv folds: 0.8126868856981918\n",
      "Train set cv score range across 10 cv folds: 0.333682898604038\n",
      "\n",
      "Test set statistics\n",
      "Test set mean accuracy across 10 cv folds: 0.8925518983999086\n",
      "Test set cv score range across 10 cv folds: 0.0014211031892761294\n",
      "Test set sensitivty score: 0.23298309730470534\n"
     ]
    }
   ],
   "source": [
    "rfc = RandomForestClassifier(bootstrap=True, class_weight=None, criterion='gini',\n",
    "                       max_depth=10, max_features='auto', max_leaf_nodes=None,\n",
    "                       min_impurity_decrease=0.0, min_impurity_split=None,\n",
    "                       min_samples_leaf=1, min_samples_split=2,\n",
    "                       min_weight_fraction_leaf=0.0, n_estimators=400,\n",
    "                       n_jobs=None, oob_score=False, random_state=None,\n",
    "                       verbose=0, warm_start=False)\n",
    "rfc.fit(X_train,y_train)\n",
    "\n",
    "# Calculate train set performance\n",
    "\n",
    "train_scores = cross_val_score(rfc, X_train, y_train, cv=10, n_jobs=3)\n",
    "train_mean = np.mean(train_scores)\n",
    "train_range = train_scores.max()-train_scores.min()\n",
    "\n",
    "# Calculate test set performance\n",
    "\n",
    "test_scores = cross_val_score(rfc, X_test, y_test, cv=10, n_jobs=3)\n",
    "test_mean = np.mean(test_scores)\n",
    "test_range = test_scores.max()-test_scores.min()\n",
    "\n",
    "\n",
    "print((\n",
    "    'Train set statistics\\n'\n",
    "    'Train set mean accuracy across 10 cv folds: {}\\n'\n",
    "    'Train set cv score range across 10 cv folds: {}\\n\\n'\n",
    "    'Test set statistics\\n'\n",
    "    'Test set mean accuracy across 10 cv folds: {}\\n'\n",
    "    'Test set cv score range across 10 cv folds: {}\\n'\n",
    "    'Test set sensitivty score: {}'\n",
    ").format(train_mean,train_range,test_mean,test_range,recall_score(y_test, rfc.predict(X_test))))"
   ]
  },
  {
   "cell_type": "markdown",
   "metadata": {},
   "source": [
    "The SMOTE method resulted in an increase in sensitivity from the model we generated before resampling; however, the best model performance came from undersampling the majority class."
   ]
  },
  {
   "cell_type": "code",
   "execution_count": null,
   "metadata": {},
   "outputs": [],
   "source": []
  }
 ],
 "metadata": {
  "kernelspec": {
   "display_name": "Python 3",
   "language": "python",
   "name": "python3"
  },
  "language_info": {
   "codemirror_mode": {
    "name": "ipython",
    "version": 3
   },
   "file_extension": ".py",
   "mimetype": "text/x-python",
   "name": "python",
   "nbconvert_exporter": "python",
   "pygments_lexer": "ipython3",
   "version": "3.6.8"
  }
 },
 "nbformat": 4,
 "nbformat_minor": 2
}
